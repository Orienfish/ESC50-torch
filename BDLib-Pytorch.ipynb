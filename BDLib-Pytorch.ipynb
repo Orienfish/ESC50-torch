{
 "cells": [
  {
   "cell_type": "markdown",
   "metadata": {},
   "source": [
    "Adapted from https://github.com/hasithsura/Environmental-Sound-Classification/blob/master/ESC50-Pytorch.ipynb"
   ]
  },
  {
   "cell_type": "code",
   "execution_count": 5,
   "metadata": {
    "colab": {
     "base_uri": "https://localhost:8080/",
     "height": 364
    },
    "colab_type": "code",
    "executionInfo": {
     "elapsed": 48009,
     "status": "ok",
     "timestamp": 1578380343952,
     "user": {
      "displayName": "Hasith Sura",
      "photoUrl": "https://lh3.googleusercontent.com/a-/AAuE7mDzDyQVY4C3qjPKg-UvWYZ1ZVm1SaOwb5y0Eh5p=s64",
      "userId": "07016917453018972566"
     },
     "user_tz": -330
    },
    "id": "VXJfjB0XsKqa",
    "outputId": "3a01f773-869c-4a17-b811-96e360bd2b00"
   },
   "outputs": [
    {
     "name": "stdout",
     "output_type": "stream",
     "text": [
      "mkdir: cannot create directory ‘BDLib’: File exists\n",
      "/home/xiaofan/Github/ESC50-torch/BDLib\n"
     ]
    }
   ],
   "source": [
    "%mkdir BDLib\n",
    "%cd BDLib\n",
    "!test ! -f \"BDLib-2.zip\" && wget \"http://research.playcompass.com/files/BDLib-2.zip\""
   ]
  },
  {
   "cell_type": "code",
   "execution_count": 2,
   "metadata": {
    "colab": {
     "base_uri": "https://localhost:8080/",
     "height": 1000
    },
    "colab_type": "code",
    "executionInfo": {
     "elapsed": 61104,
     "status": "ok",
     "timestamp": 1578380357074,
     "user": {
      "displayName": "Hasith Sura",
      "photoUrl": "https://lh3.googleusercontent.com/a-/AAuE7mDzDyQVY4C3qjPKg-UvWYZ1ZVm1SaOwb5y0Eh5p=s64",
      "userId": "07016917453018972566"
     },
     "user_tz": -330
    },
    "id": "2CxvoJQ33dH_",
    "outputId": "37317403-6a39-4a74-b704-59dfe4923672"
   },
   "outputs": [],
   "source": [
    "!unzip -qq BDLib-2.zip"
   ]
  },
  {
   "cell_type": "code",
   "execution_count": 6,
   "metadata": {
    "colab": {},
    "colab_type": "code",
    "id": "nYITrh5b5fEm"
   },
   "outputs": [],
   "source": [
    "import pandas as pd\n",
    "import librosa\n",
    "import numpy as np\n",
    "import matplotlib.pyplot as plt\n",
    "import librosa.display\n",
    "import torch\n",
    "import torch.nn as nn\n",
    "import torch.nn.functional as F\n",
    "import torch.optim as optim\n",
    "from torch.utils.data import Dataset, DataLoader\n",
    "from tqdm import tqdm\n",
    "import os"
   ]
  },
  {
   "cell_type": "markdown",
   "metadata": {},
   "source": [
    "## Now training and testing on BDLib"
   ]
  },
  {
   "cell_type": "code",
   "execution_count": 7,
   "metadata": {
    "colab": {},
    "colab_type": "code",
    "id": "UGt8FYjhJ9jX"
   },
   "outputs": [],
   "source": [
    "def spec_to_image(spec, eps=1e-6):\n",
    "  mean = spec.mean()\n",
    "  std = spec.std()\n",
    "  spec_norm = (spec - mean) / (std + eps)\n",
    "  spec_min, spec_max = spec_norm.min(), spec_norm.max()\n",
    "  spec_scaled = 255 * (spec_norm - spec_min) / (spec_max - spec_min)\n",
    "  spec_scaled = spec_scaled.astype(np.uint8)\n",
    "  return spec_scaled"
   ]
  },
  {
   "cell_type": "code",
   "execution_count": 8,
   "metadata": {
    "colab": {},
    "colab_type": "code",
    "id": "yjW7TI8iKCgU"
   },
   "outputs": [],
   "source": [
    "def get_melspectrogram_db(file_path, sr=None, n_fft=2048, hop_length=512, n_mels=128, fmin=20, fmax=8300, top_db=80):\n",
    "  wav,sr = librosa.load(file_path,sr=sr)\n",
    "  if wav.shape[0]<5*sr:\n",
    "    wav=np.pad(wav,int(np.ceil((5*sr-wav.shape[0])/2)),mode='reflect')\n",
    "  else:\n",
    "    wav=wav[:5*sr]\n",
    "  spec=librosa.feature.melspectrogram(y=wav, sr=sr, n_fft=n_fft,\n",
    "              hop_length=hop_length,n_mels=n_mels,fmin=fmin,fmax=fmax)\n",
    "  spec_db=librosa.power_to_db(spec,top_db=top_db)\n",
    "  return spec_db"
   ]
  },
  {
   "cell_type": "code",
   "execution_count": 19,
   "metadata": {
    "colab": {},
    "colab_type": "code",
    "id": "J5pJvKvpbRHZ"
   },
   "outputs": [
    {
     "name": "stderr",
     "output_type": "stream",
     "text": [
      "100%|██████████| 10/10 [00:00<00:00, 11535.49it/s]\n"
     ]
    },
    {
     "name": "stdout",
     "output_type": "stream",
     "text": [
      "train (130, 1, 128, 431) (130,)\n",
      "uint8 int64\n"
     ]
    },
    {
     "name": "stderr",
     "output_type": "stream",
     "text": [
      "100%|██████████| 10/10 [00:00<00:00, 11507.01it/s]"
     ]
    },
    {
     "name": "stdout",
     "output_type": "stream",
     "text": [
      "test (50, 1, 128, 431) (50,)\n",
      "uint8 int64\n",
      "train data length 130\n",
      "valid data length 50\n",
      "(1, 128, 431)\n"
     ]
    },
    {
     "name": "stderr",
     "output_type": "stream",
     "text": [
      "\n"
     ]
    }
   ],
   "source": [
    "all_labels = ['airplane', \n",
    "              'alarms',\n",
    "              'applause',\n",
    "              'birds',\n",
    "              'dogs',\n",
    "              'motorcycles',\n",
    "              'rain',\n",
    "              'rivers',\n",
    "              'seawaves',\n",
    "              'thunders']\n",
    "\n",
    "class BDLibData(Dataset):\n",
    "  def __init__(self, base, test_partition=0.3, mode='train'):\n",
    "    self.data = []\n",
    "    self.labels = []\n",
    "    self.num_classes = 10\n",
    "    \n",
    "    # Read all samples\n",
    "    for id in [1, 2, 3]:\n",
    "      dir_path = os.path.join(base, 'fold-{}'.format(id))\n",
    "      all_files = os.listdir(dir_path)\n",
    "      for ind in range(len(all_files)):\n",
    "        file_path = os.path.join(dir_path, all_files[ind])\n",
    "        self.data.append(spec_to_image(get_melspectrogram_db(file_path))[np.newaxis,...])\n",
    "        label = all_files[ind].split('.')[0].rstrip('0123456789')\n",
    "        # print(label)\n",
    "        self.labels.append(all_labels.index(label))\n",
    "\n",
    "    self.data = np.array(self.data)\n",
    "    self.labels = np.array(self.labels)\n",
    "\n",
    "    # Partition training and testing samples randomly per class, and save the testing indexes\n",
    "    test_samples_idx = []\n",
    "    for c in tqdm(range(self.num_classes)):\n",
    "      class_mask = (self.labels == c)\n",
    "      class_test_num = int(class_mask.sum() * test_partition)\n",
    "      class_test_idx = np.random.choice(np.arange(self.labels.shape[0])[class_mask],\n",
    "                                           size=class_test_num,\n",
    "                                           replace=False).astype('int')\n",
    "      test_samples_idx.extend(class_test_idx.tolist())\n",
    "    test_samples_idx.sort()\n",
    "    test_samples_idx =  np.array(test_samples_idx)\n",
    "\n",
    "    if mode == 'train':\n",
    "      self.data = np.delete(self.data, test_samples_idx, axis=0)\n",
    "      self.labels = np.delete(self.labels, test_samples_idx, axis=0)\n",
    "      np.savetxt(os.path.join(base, 'test_samples_idx.txt'), test_samples_idx)\n",
    "    else:  # test\n",
    "      test_samples_idx = np.loadtxt(os.path.join(base, 'test_samples_idx.txt')).astype('int')\n",
    "      self.data = self.data[test_samples_idx]\n",
    "      self.labels = self.labels[test_samples_idx]\n",
    "    \n",
    "    print(mode, self.data.shape, self.labels.shape)\n",
    "    print(self.data.dtype, self.labels.dtype)\n",
    "\n",
    "  def __len__(self):\n",
    "    return len(self.data)\n",
    "  \n",
    "  def __getitem__(self, idx):\n",
    "    return self.data[idx], self.labels[idx]\n",
    "  \n",
    "train_data = BDLibData('./', mode='train')\n",
    "valid_data = BDLibData('./', mode='test')\n",
    "\n",
    "# A simpler version of loader\n",
    "\"\"\"class BDLibData(Dataset):\n",
    "  def __init__(self, base, fold_ids):\n",
    "    self.data = []\n",
    "    self.labels = []\n",
    "    self.num_classes = 10\n",
    "    \n",
    "    # Read all samples\n",
    "    for id in fold_ids:\n",
    "      dir_path = os.path.join(base, 'fold-{}'.format(id))\n",
    "      all_files = os.listdir(dir_path)\n",
    "      for ind in range(len(all_files)):\n",
    "        file_path = os.path.join(dir_path, all_files[ind])\n",
    "        self.data.append(spec_to_image(get_melspectrogram_db(file_path))[np.newaxis,...])\n",
    "        label = all_files[ind].split('.')[0].rstrip('0123456789')\n",
    "        # print(label)\n",
    "        self.labels.append(all_labels.index(label))\n",
    "\n",
    "  def __len__(self):\n",
    "    return len(self.data)\n",
    "  \n",
    "  def __getitem__(self, idx):\n",
    "    return self.data[idx], self.labels[idx]\n",
    "  \n",
    "train_data = BDLibData('./', [1, 2])\n",
    "valid_data = BDLibData('./', [3])\"\"\"\n",
    "\n",
    "train_loader = DataLoader(train_data, batch_size=16, shuffle=True)\n",
    "valid_loader = DataLoader(valid_data, batch_size=16, shuffle=True)\n",
    "\n",
    "print('train data length', len(train_data))\n",
    "print('valid data length', len(valid_data))\n",
    "\n",
    "print(train_data.data[0].shape)"
   ]
  },
  {
   "cell_type": "code",
   "execution_count": 20,
   "metadata": {
    "colab": {
     "base_uri": "https://localhost:8080/",
     "height": 52
    },
    "colab_type": "code",
    "executionInfo": {
     "elapsed": 882360,
     "status": "ok",
     "timestamp": 1578381184381,
     "user": {
      "displayName": "Hasith Sura",
      "photoUrl": "https://lh3.googleusercontent.com/a-/AAuE7mDzDyQVY4C3qjPKg-UvWYZ1ZVm1SaOwb5y0Eh5p=s64",
      "userId": "07016917453018972566"
     },
     "user_tz": -330
    },
    "id": "E8e0rOOTs4_G",
    "outputId": "8684b6d7-d45d-4112-9ba2-1f08c437a98c"
   },
   "outputs": [
    {
     "name": "stderr",
     "output_type": "stream",
     "text": [
      "/home/xiaofan/anaconda3/envs/esc50-py38/lib/python3.8/site-packages/torchvision/models/_utils.py:208: UserWarning: The parameter 'pretrained' is deprecated since 0.13 and may be removed in the future, please use 'weights' instead.\n",
      "  warnings.warn(\n",
      "/home/xiaofan/anaconda3/envs/esc50-py38/lib/python3.8/site-packages/torchvision/models/_utils.py:223: UserWarning: Arguments other than a weight enum or `None` for 'weights' are deprecated since 0.13 and may be removed in the future. The current behavior is equivalent to passing `weights=ResNet18_Weights.IMAGENET1K_V1`. You can also use `weights=ResNet18_Weights.DEFAULT` to get the most up-to-date weights.\n",
      "  warnings.warn(msg)\n"
     ]
    }
   ],
   "source": [
    "from torchvision.models import resnet18\n",
    "if torch.cuda.is_available():\n",
    "  device=torch.device('cuda:0')\n",
    "else:\n",
    "  device=torch.device('cpu')\n",
    "  \n",
    "resnet_model = resnet18(pretrained=True)\n",
    "resnet_model.fc = nn.Linear(512,10)\n",
    "resnet_model.conv1 = nn.Conv2d(1, 64, kernel_size=(7, 7), stride=(2, 2), padding=(3, 3), bias=False)\n",
    "resnet_model = resnet_model.to(device)"
   ]
  },
  {
   "cell_type": "code",
   "execution_count": 21,
   "metadata": {
    "colab": {},
    "colab_type": "code",
    "id": "4WdH7_UUOkJD"
   },
   "outputs": [],
   "source": [
    "def train(model, loss_fn, train_loader, valid_loader, epochs, optimizer, train_losses, valid_losses, change_lr=None):\n",
    "  for epoch in tqdm(range(1,epochs+1)):\n",
    "    model.train()\n",
    "    batch_losses=[]\n",
    "    if change_lr:\n",
    "      optimizer = change_lr(optimizer, epoch)\n",
    "    for i, data in enumerate(train_loader):\n",
    "      x, y = data\n",
    "      optimizer.zero_grad()\n",
    "      x = x.to(device, dtype=torch.float32)\n",
    "      y = y.to(device, dtype=torch.long)\n",
    "      y_hat = model(x)\n",
    "      loss = loss_fn(y_hat, y)\n",
    "      loss.backward()\n",
    "      batch_losses.append(loss.item())\n",
    "      optimizer.step()\n",
    "    train_losses.append(batch_losses)\n",
    "    print(f'Epoch - {epoch} Train-Loss : {np.mean(train_losses[-1])}')\n",
    "    model.eval()\n",
    "    batch_losses=[]\n",
    "    trace_y = []\n",
    "    trace_yhat = []\n",
    "    for i, data in enumerate(valid_loader):\n",
    "      x, y = data\n",
    "      x = x.to(device, dtype=torch.float32)\n",
    "      y = y.to(device, dtype=torch.long)\n",
    "      y_hat = model(x)\n",
    "      loss = loss_fn(y_hat, y)\n",
    "      trace_y.append(y.cpu().detach().numpy())\n",
    "      trace_yhat.append(y_hat.cpu().detach().numpy())      \n",
    "      batch_losses.append(loss.item())\n",
    "    valid_losses.append(batch_losses)\n",
    "    trace_y = np.concatenate(trace_y)\n",
    "    trace_yhat = np.concatenate(trace_yhat)\n",
    "    accuracy = np.mean(trace_yhat.argmax(axis=1)==trace_y)\n",
    "    print(f'Epoch - {epoch} Valid-Loss : {np.mean(valid_losses[-1])} Valid-Accuracy : {accuracy}')"
   ]
  },
  {
   "cell_type": "code",
   "execution_count": 22,
   "metadata": {
    "colab": {
     "base_uri": "https://localhost:8080/",
     "height": 1000,
     "referenced_widgets": [
      "06255689536946a9b605534e84b4b2f2",
      "68556653d48d45f5837a4ee6f9e5c591",
      "ea7922a2a84849b68d41bcd32abb1020",
      "e5cedff785ed42e6887f222ab8766b33",
      "a4611a41207d46d3991ba0aec44f3df7",
      "ff8c09097b5346a2836e16fa056d9c22",
      "96247fe69e6b48c8b2c1d3d3ae14c91f",
      "8256934d9b8e4529b749342c04813753"
     ]
    },
    "colab_type": "code",
    "executionInfo": {
     "elapsed": 1276195,
     "status": "ok",
     "timestamp": 1578381578693,
     "user": {
      "displayName": "Hasith Sura",
      "photoUrl": "https://lh3.googleusercontent.com/a-/AAuE7mDzDyQVY4C3qjPKg-UvWYZ1ZVm1SaOwb5y0Eh5p=s64",
      "userId": "07016917453018972566"
     },
     "user_tz": -330
    },
    "id": "NofH2b_Rus99",
    "outputId": "d615cda3-5200-4792-8ac1-54aecd26b8bb"
   },
   "outputs": [
    {
     "name": "stderr",
     "output_type": "stream",
     "text": [
      "  4%|▍         | 2/50 [00:00<00:08,  5.60it/s]"
     ]
    },
    {
     "name": "stdout",
     "output_type": "stream",
     "text": [
      "Epoch - 1 Train-Loss : 1.671095026863946\n",
      "Epoch - 1 Valid-Loss : 1.7340365648269653 Valid-Accuracy : 0.54\n",
      "Epoch - 2 Train-Loss : 0.6306387715869479\n",
      "Epoch - 2 Valid-Loss : 0.9893710911273956 Valid-Accuracy : 0.68\n"
     ]
    },
    {
     "name": "stderr",
     "output_type": "stream",
     "text": [
      "  8%|▊         | 4/50 [00:00<00:07,  6.38it/s]"
     ]
    },
    {
     "name": "stdout",
     "output_type": "stream",
     "text": [
      "Epoch - 3 Train-Loss : 0.54905823038684\n",
      "Epoch - 3 Valid-Loss : 0.6178491092287004 Valid-Accuracy : 0.78\n",
      "Epoch - 4 Train-Loss : 0.29875512089994216\n",
      "Epoch - 4 Valid-Loss : 0.8159659504890442 Valid-Accuracy : 0.74\n"
     ]
    },
    {
     "name": "stderr",
     "output_type": "stream",
     "text": [
      " 12%|█▏        | 6/50 [00:00<00:06,  6.64it/s]"
     ]
    },
    {
     "name": "stdout",
     "output_type": "stream",
     "text": [
      "Epoch - 5 Train-Loss : 0.3422326064772076\n",
      "Epoch - 5 Valid-Loss : 0.38474111957475543 Valid-Accuracy : 0.8\n",
      "Epoch - 6 Train-Loss : 0.22060874166587988\n",
      "Epoch - 6 Valid-Loss : 0.8951922804117203 Valid-Accuracy : 0.84\n"
     ]
    },
    {
     "name": "stderr",
     "output_type": "stream",
     "text": [
      " 16%|█▌        | 8/50 [00:01<00:06,  6.76it/s]"
     ]
    },
    {
     "name": "stdout",
     "output_type": "stream",
     "text": [
      "Epoch - 7 Train-Loss : 0.1500617480940289\n",
      "Epoch - 7 Valid-Loss : 0.5226838027592748 Valid-Accuracy : 0.82\n",
      "Epoch - 8 Train-Loss : 0.1148497634049919\n",
      "Epoch - 8 Valid-Loss : 0.45024574967101216 Valid-Accuracy : 0.84\n"
     ]
    },
    {
     "name": "stderr",
     "output_type": "stream",
     "text": [
      " 20%|██        | 10/50 [00:01<00:05,  6.82it/s]"
     ]
    },
    {
     "name": "stdout",
     "output_type": "stream",
     "text": [
      "Epoch - 9 Train-Loss : 0.1892976500093937\n",
      "Epoch - 9 Valid-Loss : 0.5572441052645445 Valid-Accuracy : 0.82\n",
      "Changed learning rate to 2e-05\n",
      "Epoch - 10 Train-Loss : 0.5140764906795489\n",
      "Epoch - 10 Valid-Loss : 0.5797675810754299 Valid-Accuracy : 0.82\n"
     ]
    },
    {
     "name": "stderr",
     "output_type": "stream",
     "text": [
      " 24%|██▍       | 12/50 [00:01<00:05,  6.84it/s]"
     ]
    },
    {
     "name": "stdout",
     "output_type": "stream",
     "text": [
      "Epoch - 11 Train-Loss : 0.129952740131153\n",
      "Epoch - 11 Valid-Loss : 1.0046100169420242 Valid-Accuracy : 0.84\n",
      "Epoch - 12 Train-Loss : 0.0825745038067301\n",
      "Epoch - 12 Valid-Loss : 0.633613295853138 Valid-Accuracy : 0.84\n"
     ]
    },
    {
     "name": "stderr",
     "output_type": "stream",
     "text": [
      " 28%|██▊       | 14/50 [00:02<00:05,  6.89it/s]"
     ]
    },
    {
     "name": "stdout",
     "output_type": "stream",
     "text": [
      "Epoch - 13 Train-Loss : 0.080110608237899\n",
      "Epoch - 13 Valid-Loss : 0.5087129981257021 Valid-Accuracy : 0.86\n",
      "Epoch - 14 Train-Loss : 0.07654337305575609\n",
      "Epoch - 14 Valid-Loss : 0.6617557406425476 Valid-Accuracy : 0.86\n"
     ]
    },
    {
     "name": "stderr",
     "output_type": "stream",
     "text": [
      " 32%|███▏      | 16/50 [00:02<00:04,  6.90it/s]"
     ]
    },
    {
     "name": "stdout",
     "output_type": "stream",
     "text": [
      "Epoch - 15 Train-Loss : 0.12624779550565612\n",
      "Epoch - 15 Valid-Loss : 0.5226907283067703 Valid-Accuracy : 0.84\n",
      "Epoch - 16 Train-Loss : 0.11987736443471578\n",
      "Epoch - 16 Valid-Loss : 0.47192461986560374 Valid-Accuracy : 0.86\n"
     ]
    },
    {
     "name": "stderr",
     "output_type": "stream",
     "text": [
      " 36%|███▌      | 18/50 [00:02<00:04,  6.90it/s]"
     ]
    },
    {
     "name": "stdout",
     "output_type": "stream",
     "text": [
      "Epoch - 17 Train-Loss : 0.031317835259768695\n",
      "Epoch - 17 Valid-Loss : 0.5712588131427765 Valid-Accuracy : 0.84\n",
      "Epoch - 18 Train-Loss : 0.050309251424753\n",
      "Epoch - 18 Valid-Loss : 0.5939064249396324 Valid-Accuracy : 0.82\n"
     ]
    },
    {
     "name": "stderr",
     "output_type": "stream",
     "text": [
      " 40%|████      | 20/50 [00:02<00:04,  6.89it/s]"
     ]
    },
    {
     "name": "stdout",
     "output_type": "stream",
     "text": [
      "Epoch - 19 Train-Loss : 0.08421953591621584\n",
      "Epoch - 19 Valid-Loss : 0.43582873279228806 Valid-Accuracy : 0.86\n",
      "Changed learning rate to 2e-06\n",
      "Epoch - 20 Train-Loss : 0.08108767753260003\n",
      "Epoch - 20 Valid-Loss : 0.5014518648386002 Valid-Accuracy : 0.84\n"
     ]
    },
    {
     "name": "stderr",
     "output_type": "stream",
     "text": [
      " 44%|████▍     | 22/50 [00:03<00:04,  6.90it/s]"
     ]
    },
    {
     "name": "stdout",
     "output_type": "stream",
     "text": [
      "Epoch - 21 Train-Loss : 0.38437931969140965\n",
      "Epoch - 21 Valid-Loss : 0.5324381291866302 Valid-Accuracy : 0.84\n",
      "Epoch - 22 Train-Loss : 0.05784340746079882\n",
      "Epoch - 22 Valid-Loss : 0.41543076816014946 Valid-Accuracy : 0.86\n"
     ]
    },
    {
     "name": "stderr",
     "output_type": "stream",
     "text": [
      " 48%|████▊     | 24/50 [00:03<00:03,  6.90it/s]"
     ]
    },
    {
     "name": "stdout",
     "output_type": "stream",
     "text": [
      "Epoch - 23 Train-Loss : 0.12809983387382495\n",
      "Epoch - 23 Valid-Loss : 0.44237180799245834 Valid-Accuracy : 0.84\n",
      "Epoch - 24 Train-Loss : 0.10957514194564687\n",
      "Epoch - 24 Valid-Loss : 0.5107517205178738 Valid-Accuracy : 0.84\n"
     ]
    },
    {
     "name": "stderr",
     "output_type": "stream",
     "text": [
      " 52%|█████▏    | 26/50 [00:03<00:03,  6.92it/s]"
     ]
    },
    {
     "name": "stdout",
     "output_type": "stream",
     "text": [
      "Epoch - 25 Train-Loss : 0.07360681239515543\n",
      "Epoch - 25 Valid-Loss : 0.49172508902847767 Valid-Accuracy : 0.84\n",
      "Epoch - 26 Train-Loss : 0.05018180991626448\n",
      "Epoch - 26 Valid-Loss : 0.8122719973325729 Valid-Accuracy : 0.86\n"
     ]
    },
    {
     "name": "stderr",
     "output_type": "stream",
     "text": [
      " 56%|█████▌    | 28/50 [00:04<00:03,  6.92it/s]"
     ]
    },
    {
     "name": "stdout",
     "output_type": "stream",
     "text": [
      "Epoch - 27 Train-Loss : 0.06878918699092335\n",
      "Epoch - 27 Valid-Loss : 0.529179759323597 Valid-Accuracy : 0.86\n",
      "Epoch - 28 Train-Loss : 0.09840268269181252\n",
      "Epoch - 28 Valid-Loss : 0.41606437554582953 Valid-Accuracy : 0.86\n"
     ]
    },
    {
     "name": "stderr",
     "output_type": "stream",
     "text": [
      " 60%|██████    | 30/50 [00:04<00:02,  6.92it/s]"
     ]
    },
    {
     "name": "stdout",
     "output_type": "stream",
     "text": [
      "Epoch - 29 Train-Loss : 0.04228348662662837\n",
      "Epoch - 29 Valid-Loss : 0.6395356692373753 Valid-Accuracy : 0.86\n",
      "Changed learning rate to 2.0000000000000002e-07\n",
      "Epoch - 30 Train-Loss : 0.06733305685015188\n",
      "Epoch - 30 Valid-Loss : 0.46206829976290464 Valid-Accuracy : 0.86\n"
     ]
    },
    {
     "name": "stderr",
     "output_type": "stream",
     "text": [
      " 64%|██████▍   | 32/50 [00:04<00:02,  6.93it/s]"
     ]
    },
    {
     "name": "stdout",
     "output_type": "stream",
     "text": [
      "Epoch - 31 Train-Loss : 0.08165888188199864\n",
      "Epoch - 31 Valid-Loss : 0.4319535044487566 Valid-Accuracy : 0.86\n",
      "Epoch - 32 Train-Loss : 0.3477862099599507\n",
      "Epoch - 32 Valid-Loss : 0.467982460744679 Valid-Accuracy : 0.88\n"
     ]
    },
    {
     "name": "stderr",
     "output_type": "stream",
     "text": [
      " 68%|██████▊   | 34/50 [00:05<00:02,  6.92it/s]"
     ]
    },
    {
     "name": "stdout",
     "output_type": "stream",
     "text": [
      "Epoch - 33 Train-Loss : 0.07426202131642236\n",
      "Epoch - 33 Valid-Loss : 0.4509620334720239 Valid-Accuracy : 0.86\n",
      "Epoch - 34 Train-Loss : 0.10067930082894033\n",
      "Epoch - 34 Valid-Loss : 0.4425183308776468 Valid-Accuracy : 0.86\n"
     ]
    },
    {
     "name": "stderr",
     "output_type": "stream",
     "text": [
      " 72%|███████▏  | 36/50 [00:05<00:02,  6.91it/s]"
     ]
    },
    {
     "name": "stdout",
     "output_type": "stream",
     "text": [
      "Epoch - 35 Train-Loss : 0.10071592229521936\n",
      "Epoch - 35 Valid-Loss : 0.471315745569882 Valid-Accuracy : 0.84\n",
      "Epoch - 36 Train-Loss : 0.08497460450356205\n",
      "Epoch - 36 Valid-Loss : 0.49805497005581856 Valid-Accuracy : 0.86\n"
     ]
    },
    {
     "name": "stderr",
     "output_type": "stream",
     "text": [
      " 76%|███████▌  | 38/50 [00:05<00:01,  6.88it/s]"
     ]
    },
    {
     "name": "stdout",
     "output_type": "stream",
     "text": [
      "Epoch - 37 Train-Loss : 0.0876417113468051\n",
      "Epoch - 37 Valid-Loss : 0.4797978466376662 Valid-Accuracy : 0.82\n",
      "Epoch - 38 Train-Loss : 0.11086018797424105\n",
      "Epoch - 38 Valid-Loss : 0.48824745207093656 Valid-Accuracy : 0.82\n"
     ]
    },
    {
     "name": "stderr",
     "output_type": "stream",
     "text": [
      " 80%|████████  | 40/50 [00:05<00:01,  6.89it/s]"
     ]
    },
    {
     "name": "stdout",
     "output_type": "stream",
     "text": [
      "Epoch - 39 Train-Loss : 0.049468621559855014\n",
      "Epoch - 39 Valid-Loss : 0.5024698908309801 Valid-Accuracy : 0.84\n",
      "Changed learning rate to 2e-08\n",
      "Epoch - 40 Train-Loss : 0.050632055227955185\n",
      "Epoch - 40 Valid-Loss : 0.45580168085871264 Valid-Accuracy : 0.84\n"
     ]
    },
    {
     "name": "stderr",
     "output_type": "stream",
     "text": [
      " 84%|████████▍ | 42/50 [00:06<00:01,  6.90it/s]"
     ]
    },
    {
     "name": "stdout",
     "output_type": "stream",
     "text": [
      "Epoch - 41 Train-Loss : 0.06823521836971243\n",
      "Epoch - 41 Valid-Loss : 0.4875159524381161 Valid-Accuracy : 0.86\n",
      "Epoch - 42 Train-Loss : 0.06854949167205228\n",
      "Epoch - 42 Valid-Loss : 0.4765941465739161 Valid-Accuracy : 0.8\n"
     ]
    },
    {
     "name": "stderr",
     "output_type": "stream",
     "text": [
      " 88%|████████▊ | 44/50 [00:06<00:00,  6.90it/s]"
     ]
    },
    {
     "name": "stdout",
     "output_type": "stream",
     "text": [
      "Epoch - 43 Train-Loss : 0.20734904013160202\n",
      "Epoch - 43 Valid-Loss : 0.45092362724244595 Valid-Accuracy : 0.84\n",
      "Epoch - 44 Train-Loss : 0.1211243659361369\n",
      "Epoch - 44 Valid-Loss : 0.44007343030534685 Valid-Accuracy : 0.82\n"
     ]
    },
    {
     "name": "stderr",
     "output_type": "stream",
     "text": [
      " 92%|█████████▏| 46/50 [00:06<00:00,  6.90it/s]"
     ]
    },
    {
     "name": "stdout",
     "output_type": "stream",
     "text": [
      "Epoch - 45 Train-Loss : 0.04463871247652504\n",
      "Epoch - 45 Valid-Loss : 0.4357275669462979 Valid-Accuracy : 0.84\n",
      "Epoch - 46 Train-Loss : 0.34231058621986044\n",
      "Epoch - 46 Valid-Loss : 0.8101527318358421 Valid-Accuracy : 0.86\n"
     ]
    },
    {
     "name": "stderr",
     "output_type": "stream",
     "text": [
      " 96%|█████████▌| 48/50 [00:07<00:00,  6.91it/s]"
     ]
    },
    {
     "name": "stdout",
     "output_type": "stream",
     "text": [
      "Epoch - 47 Train-Loss : 0.0802289644877116\n",
      "Epoch - 47 Valid-Loss : 0.710137628018856 Valid-Accuracy : 0.86\n",
      "Epoch - 48 Train-Loss : 0.10234777489677072\n",
      "Epoch - 48 Valid-Loss : 0.48022023029625416 Valid-Accuracy : 0.84\n"
     ]
    },
    {
     "name": "stderr",
     "output_type": "stream",
     "text": [
      "100%|██████████| 50/50 [00:07<00:00,  6.82it/s]"
     ]
    },
    {
     "name": "stdout",
     "output_type": "stream",
     "text": [
      "Epoch - 49 Train-Loss : 0.11471714726131824\n",
      "Epoch - 49 Valid-Loss : 0.4513228174764663 Valid-Accuracy : 0.86\n",
      "Changed learning rate to 2e-09\n",
      "Epoch - 50 Train-Loss : 0.08097063201583093\n",
      "Epoch - 50 Valid-Loss : 0.5367873907089233 Valid-Accuracy : 0.86\n"
     ]
    },
    {
     "name": "stderr",
     "output_type": "stream",
     "text": [
      "\n"
     ]
    }
   ],
   "source": [
    "def setlr(optimizer, lr):\n",
    "  for param_group in optimizer.param_groups:\n",
    "    param_group['lr'] = lr\n",
    "  return optimizer\n",
    "\n",
    "learning_rate = 2e-4\n",
    "optimizer = optim.Adam(resnet_model.parameters(), lr=learning_rate)\n",
    "epochs = 50\n",
    "loss_fn = nn.CrossEntropyLoss()\n",
    "resnet_train_losses=[]\n",
    "resnet_valid_losses=[]\n",
    "def lr_decay(optimizer, epoch):\n",
    "  if epoch%10==0:\n",
    "    new_lr = learning_rate / (10**(epoch//10))\n",
    "    optimizer = setlr(optimizer, new_lr)\n",
    "    print(f'Changed learning rate to {new_lr}')\n",
    "  return optimizer\n",
    "train(resnet_model, loss_fn, train_loader, valid_loader, epochs, optimizer, resnet_train_losses, resnet_valid_losses, lr_decay)"
   ]
  },
  {
   "cell_type": "code",
   "execution_count": 23,
   "metadata": {
    "colab": {
     "base_uri": "https://localhost:8080/",
     "height": 391
    },
    "colab_type": "code",
    "executionInfo": {
     "elapsed": 882862,
     "status": "ok",
     "timestamp": 1578381183906,
     "user": {
      "displayName": "Hasith Sura",
      "photoUrl": "https://lh3.googleusercontent.com/a-/AAuE7mDzDyQVY4C3qjPKg-UvWYZ1ZVm1SaOwb5y0Eh5p=s64",
      "userId": "07016917453018972566"
     },
     "user_tz": -330
    },
    "id": "ctpqvds2QNuP",
    "outputId": "26940356-bd41-4872-e305-a6d35f031f7f"
   },
   "outputs": [
    {
     "data": {
      "text/plain": [
       "<matplotlib.legend.Legend at 0x7f0ed134b700>"
      ]
     },
     "execution_count": 23,
     "metadata": {},
     "output_type": "execute_result"
    },
    {
     "data": {
      "image/png": "[encoded data removed]",
      "text/plain": [
       "<Figure size 864x432 with 2 Axes>"
      ]
     },
     "metadata": {
      "needs_background": "light"
     },
     "output_type": "display_data"
    }
   ],
   "source": [
    "tl = np.asarray(resnet_train_losses).ravel()\n",
    "vl = np.asarray(resnet_valid_losses).ravel()\n",
    "plt.figure(figsize=(12,6))\n",
    "plt.subplot(1,2,1)\n",
    "plt.plot(tl)\n",
    "plt.legend(['Train Loss'])\n",
    "plt.subplot(1,2,2)\n",
    "plt.plot(vl,'orange')\n",
    "plt.legend(['Valid Loss'])\n"
   ]
  }
 ],
 "metadata": {
  "accelerator": "GPU",
  "colab": {
   "collapsed_sections": [],
   "machine_shape": "hm",
   "name": "ESC50-Pytorch.ipynb",
   "provenance": []
  },
  "kernelspec": {
   "display_name": "Python 3",
   "language": "python",
   "name": "python3"
  },
  "language_info": {
   "codemirror_mode": {
    "name": "ipython",
    "version": 3
   },
   "file_extension": ".py",
   "mimetype": "text/x-python",
   "name": "python",
   "nbconvert_exporter": "python",
   "pygments_lexer": "ipython3",
   "version": "3.8.18"
  },
  "widgets": {
   "application/vnd.jupyter.widget-state+json": {
    "030c47630bd6415bb89198348080ba02": {
     "model_module": "@jupyter-widgets/base",
     "model_name": "LayoutModel",
     "state": {
      "_model_module": "@jupyter-widgets/base",
      "_model_module_version": "1.2.0",
      "_model_name": "LayoutModel",
      "_view_count": null,
      "_view_module": "@jupyter-widgets/base",
      "_view_module_version": "1.2.0",
      "_view_name": "LayoutView",
      "align_content": null,
      "align_items": null,
      "align_self": null,
      "border": null,
      "bottom": null,
      "display": null,
      "flex": null,
      "flex_flow": null,
      "grid_area": null,
      "grid_auto_columns": null,
      "grid_auto_flow": null,
      "grid_auto_rows": null,
      "grid_column": null,
      "grid_gap": null,
      "grid_row": null,
      "grid_template_areas": null,
      "grid_template_columns": null,
      "grid_template_rows": null,
      "height": null,
      "justify_content": null,
      "justify_items": null,
      "left": null,
      "margin": null,
      "max_height": null,
      "max_width": null,
      "min_height": null,
      "min_width": null,
      "object_fit": null,
      "object_position": null,
      "order": null,
      "overflow": null,
      "overflow_x": null,
      "overflow_y": null,
      "padding": null,
      "right": null,
      "top": null,
      "visibility": null,
      "width": null
     }
    },
    "04c3d4d827454eeb95f991db3196625a": {
     "model_module": "@jupyter-widgets/base",
     "model_name": "LayoutModel",
     "state": {
      "_model_module": "@jupyter-widgets/base",
      "_model_module_version": "1.2.0",
      "_model_name": "LayoutModel",
      "_view_count": null,
      "_view_module": "@jupyter-widgets/base",
      "_view_module_version": "1.2.0",
      "_view_name": "LayoutView",
      "align_content": null,
      "align_items": null,
      "align_self": null,
      "border": null,
      "bottom": null,
      "display": null,
      "flex": null,
      "flex_flow": null,
      "grid_area": null,
      "grid_auto_columns": null,
      "grid_auto_flow": null,
      "grid_auto_rows": null,
      "grid_column": null,
      "grid_gap": null,
      "grid_row": null,
      "grid_template_areas": null,
      "grid_template_columns": null,
      "grid_template_rows": null,
      "height": null,
      "justify_content": null,
      "justify_items": null,
      "left": null,
      "margin": null,
      "max_height": null,
      "max_width": null,
      "min_height": null,
      "min_width": null,
      "object_fit": null,
      "object_position": null,
      "order": null,
      "overflow": null,
      "overflow_x": null,
      "overflow_y": null,
      "padding": null,
      "right": null,
      "top": null,
      "visibility": null,
      "width": null
     }
    },
    "061b8ee949e543a1a90f7f173d401f9c": {
     "model_module": "@jupyter-widgets/controls",
     "model_name": "IntProgressModel",
     "state": {
      "_dom_classes": [],
      "_model_module": "@jupyter-widgets/controls",
      "_model_module_version": "1.5.0",
      "_model_name": "IntProgressModel",
      "_view_count": null,
      "_view_module": "@jupyter-widgets/controls",
      "_view_module_version": "1.5.0",
      "_view_name": "ProgressView",
      "bar_style": "success",
      "description": "",
      "description_tooltip": null,
      "layout": "IPY_MODEL_a809aa34e5714751b0eadc16c4d81bf5",
      "max": 1600,
      "min": 0,
      "orientation": "horizontal",
      "style": "IPY_MODEL_a77212fa14274940ace1191dec48dc74",
      "value": 1600
     }
    },
    "06255689536946a9b605534e84b4b2f2": {
     "model_module": "@jupyter-widgets/controls",
     "model_name": "HBoxModel",
     "state": {
      "_dom_classes": [],
      "_model_module": "@jupyter-widgets/controls",
      "_model_module_version": "1.5.0",
      "_model_name": "HBoxModel",
      "_view_count": null,
      "_view_module": "@jupyter-widgets/controls",
      "_view_module_version": "1.5.0",
      "_view_name": "HBoxView",
      "box_style": "",
      "children": [
       "IPY_MODEL_ea7922a2a84849b68d41bcd32abb1020",
       "IPY_MODEL_e5cedff785ed42e6887f222ab8766b33"
      ],
      "layout": "IPY_MODEL_68556653d48d45f5837a4ee6f9e5c591"
     }
    },
    "07418e1a42cb40bb98da06a7195c55d9": {
     "model_module": "@jupyter-widgets/controls",
     "model_name": "ProgressStyleModel",
     "state": {
      "_model_module": "@jupyter-widgets/controls",
      "_model_module_version": "1.5.0",
      "_model_name": "ProgressStyleModel",
      "_view_count": null,
      "_view_module": "@jupyter-widgets/base",
      "_view_module_version": "1.2.0",
      "_view_name": "StyleView",
      "bar_color": null,
      "description_width": ""
     }
    },
    "0cfdc111e2fd47e7b818862f0562d231": {
     "model_module": "@jupyter-widgets/controls",
     "model_name": "HTMLModel",
     "state": {
      "_dom_classes": [],
      "_model_module": "@jupyter-widgets/controls",
      "_model_module_version": "1.5.0",
      "_model_name": "HTMLModel",
      "_view_count": null,
      "_view_module": "@jupyter-widgets/controls",
      "_view_module_version": "1.5.0",
      "_view_name": "HTMLView",
      "description": "",
      "description_tooltip": null,
      "layout": "IPY_MODEL_8420ef4d10a844f982e08eb03c225cd4",
      "placeholder": "​",
      "style": "IPY_MODEL_f9aec20178d2413f93fd3b65be85a52f",
      "value": "100% 1600/1600 [03:12&lt;00:00,  8.18it/s]"
     }
    },
    "28f5d1e5487741fe8d77d10348742d52": {
     "model_module": "@jupyter-widgets/controls",
     "model_name": "HBoxModel",
     "state": {
      "_dom_classes": [],
      "_model_module": "@jupyter-widgets/controls",
      "_model_module_version": "1.5.0",
      "_model_name": "HBoxModel",
      "_view_count": null,
      "_view_module": "@jupyter-widgets/controls",
      "_view_module_version": "1.5.0",
      "_view_name": "HBoxView",
      "box_style": "",
      "children": [
       "IPY_MODEL_84391e0ac211431281ff1913546fd45f",
       "IPY_MODEL_58510864c0a64da2b5432df23ab2f158"
      ],
      "layout": "IPY_MODEL_030c47630bd6415bb89198348080ba02"
     }
    },
    "54de5fabfb8e4487b32afd657c521185": {
     "model_module": "@jupyter-widgets/base",
     "model_name": "LayoutModel",
     "state": {
      "_model_module": "@jupyter-widgets/base",
      "_model_module_version": "1.2.0",
      "_model_name": "LayoutModel",
      "_view_count": null,
      "_view_module": "@jupyter-widgets/base",
      "_view_module_version": "1.2.0",
      "_view_name": "LayoutView",
      "align_content": null,
      "align_items": null,
      "align_self": null,
      "border": null,
      "bottom": null,
      "display": null,
      "flex": null,
      "flex_flow": null,
      "grid_area": null,
      "grid_auto_columns": null,
      "grid_auto_flow": null,
      "grid_auto_rows": null,
      "grid_column": null,
      "grid_gap": null,
      "grid_row": null,
      "grid_template_areas": null,
      "grid_template_columns": null,
      "grid_template_rows": null,
      "height": null,
      "justify_content": null,
      "justify_items": null,
      "left": null,
      "margin": null,
      "max_height": null,
      "max_width": null,
      "min_height": null,
      "min_width": null,
      "object_fit": null,
      "object_position": null,
      "order": null,
      "overflow": null,
      "overflow_x": null,
      "overflow_y": null,
      "padding": null,
      "right": null,
      "top": null,
      "visibility": null,
      "width": null
     }
    },
    "5837b322e9fe420aa4ce8b66c3a91413": {
     "model_module": "@jupyter-widgets/base",
     "model_name": "LayoutModel",
     "state": {
      "_model_module": "@jupyter-widgets/base",
      "_model_module_version": "1.2.0",
      "_model_name": "LayoutModel",
      "_view_count": null,
      "_view_module": "@jupyter-widgets/base",
      "_view_module_version": "1.2.0",
      "_view_name": "LayoutView",
      "align_content": null,
      "align_items": null,
      "align_self": null,
      "border": null,
      "bottom": null,
      "display": null,
      "flex": null,
      "flex_flow": null,
      "grid_area": null,
      "grid_auto_columns": null,
      "grid_auto_flow": null,
      "grid_auto_rows": null,
      "grid_column": null,
      "grid_gap": null,
      "grid_row": null,
      "grid_template_areas": null,
      "grid_template_columns": null,
      "grid_template_rows": null,
      "height": null,
      "justify_content": null,
      "justify_items": null,
      "left": null,
      "margin": null,
      "max_height": null,
      "max_width": null,
      "min_height": null,
      "min_width": null,
      "object_fit": null,
      "object_position": null,
      "order": null,
      "overflow": null,
      "overflow_x": null,
      "overflow_y": null,
      "padding": null,
      "right": null,
      "top": null,
      "visibility": null,
      "width": null
     }
    },
    "58510864c0a64da2b5432df23ab2f158": {
     "model_module": "@jupyter-widgets/controls",
     "model_name": "HTMLModel",
     "state": {
      "_dom_classes": [],
      "_model_module": "@jupyter-widgets/controls",
      "_model_module_version": "1.5.0",
      "_model_name": "HTMLModel",
      "_view_count": null,
      "_view_module": "@jupyter-widgets/controls",
      "_view_module_version": "1.5.0",
      "_view_name": "HTMLView",
      "description": "",
      "description_tooltip": null,
      "layout": "IPY_MODEL_6c3e9b829cf048dc93eedc83fc931c10",
      "placeholder": "​",
      "style": "IPY_MODEL_8716c4fc7b154681b4f614abef951014",
      "value": "100% 400/400 [00:50&lt;00:00,  7.51it/s]"
     }
    },
    "68556653d48d45f5837a4ee6f9e5c591": {
     "model_module": "@jupyter-widgets/base",
     "model_name": "LayoutModel",
     "state": {
      "_model_module": "@jupyter-widgets/base",
      "_model_module_version": "1.2.0",
      "_model_name": "LayoutModel",
      "_view_count": null,
      "_view_module": "@jupyter-widgets/base",
      "_view_module_version": "1.2.0",
      "_view_name": "LayoutView",
      "align_content": null,
      "align_items": null,
      "align_self": null,
      "border": null,
      "bottom": null,
      "display": null,
      "flex": null,
      "flex_flow": null,
      "grid_area": null,
      "grid_auto_columns": null,
      "grid_auto_flow": null,
      "grid_auto_rows": null,
      "grid_column": null,
      "grid_gap": null,
      "grid_row": null,
      "grid_template_areas": null,
      "grid_template_columns": null,
      "grid_template_rows": null,
      "height": null,
      "justify_content": null,
      "justify_items": null,
      "left": null,
      "margin": null,
      "max_height": null,
      "max_width": null,
      "min_height": null,
      "min_width": null,
      "object_fit": null,
      "object_position": null,
      "order": null,
      "overflow": null,
      "overflow_x": null,
      "overflow_y": null,
      "padding": null,
      "right": null,
      "top": null,
      "visibility": null,
      "width": null
     }
    },
    "6c3e9b829cf048dc93eedc83fc931c10": {
     "model_module": "@jupyter-widgets/base",
     "model_name": "LayoutModel",
     "state": {
      "_model_module": "@jupyter-widgets/base",
      "_model_module_version": "1.2.0",
      "_model_name": "LayoutModel",
      "_view_count": null,
      "_view_module": "@jupyter-widgets/base",
      "_view_module_version": "1.2.0",
      "_view_name": "LayoutView",
      "align_content": null,
      "align_items": null,
      "align_self": null,
      "border": null,
      "bottom": null,
      "display": null,
      "flex": null,
      "flex_flow": null,
      "grid_area": null,
      "grid_auto_columns": null,
      "grid_auto_flow": null,
      "grid_auto_rows": null,
      "grid_column": null,
      "grid_gap": null,
      "grid_row": null,
      "grid_template_areas": null,
      "grid_template_columns": null,
      "grid_template_rows": null,
      "height": null,
      "justify_content": null,
      "justify_items": null,
      "left": null,
      "margin": null,
      "max_height": null,
      "max_width": null,
      "min_height": null,
      "min_width": null,
      "object_fit": null,
      "object_position": null,
      "order": null,
      "overflow": null,
      "overflow_x": null,
      "overflow_y": null,
      "padding": null,
      "right": null,
      "top": null,
      "visibility": null,
      "width": null
     }
    },
    "6cf30dec1582465e9d75ed5b7430bf6d": {
     "model_module": "@jupyter-widgets/base",
     "model_name": "LayoutModel",
     "state": {
      "_model_module": "@jupyter-widgets/base",
      "_model_module_version": "1.2.0",
      "_model_name": "LayoutModel",
      "_view_count": null,
      "_view_module": "@jupyter-widgets/base",
      "_view_module_version": "1.2.0",
      "_view_name": "LayoutView",
      "align_content": null,
      "align_items": null,
      "align_self": null,
      "border": null,
      "bottom": null,
      "display": null,
      "flex": null,
      "flex_flow": null,
      "grid_area": null,
      "grid_auto_columns": null,
      "grid_auto_flow": null,
      "grid_auto_rows": null,
      "grid_column": null,
      "grid_gap": null,
      "grid_row": null,
      "grid_template_areas": null,
      "grid_template_columns": null,
      "grid_template_rows": null,
      "height": null,
      "justify_content": null,
      "justify_items": null,
      "left": null,
      "margin": null,
      "max_height": null,
      "max_width": null,
      "min_height": null,
      "min_width": null,
      "object_fit": null,
      "object_position": null,
      "order": null,
      "overflow": null,
      "overflow_x": null,
      "overflow_y": null,
      "padding": null,
      "right": null,
      "top": null,
      "visibility": null,
      "width": null
     }
    },
    "7c174eb021cc44a0a572e3a0348cf270": {
     "model_module": "@jupyter-widgets/controls",
     "model_name": "HBoxModel",
     "state": {
      "_dom_classes": [],
      "_model_module": "@jupyter-widgets/controls",
      "_model_module_version": "1.5.0",
      "_model_name": "HBoxModel",
      "_view_count": null,
      "_view_module": "@jupyter-widgets/controls",
      "_view_module_version": "1.5.0",
      "_view_name": "HBoxView",
      "box_style": "",
      "children": [
       "IPY_MODEL_f50746f4b35a4e22898a30de03ca0271",
       "IPY_MODEL_da7f7d2c97874f51b2fba02ab955c740"
      ],
      "layout": "IPY_MODEL_04c3d4d827454eeb95f991db3196625a"
     }
    },
    "8256934d9b8e4529b749342c04813753": {
     "model_module": "@jupyter-widgets/base",
     "model_name": "LayoutModel",
     "state": {
      "_model_module": "@jupyter-widgets/base",
      "_model_module_version": "1.2.0",
      "_model_name": "LayoutModel",
      "_view_count": null,
      "_view_module": "@jupyter-widgets/base",
      "_view_module_version": "1.2.0",
      "_view_name": "LayoutView",
      "align_content": null,
      "align_items": null,
      "align_self": null,
      "border": null,
      "bottom": null,
      "display": null,
      "flex": null,
      "flex_flow": null,
      "grid_area": null,
      "grid_auto_columns": null,
      "grid_auto_flow": null,
      "grid_auto_rows": null,
      "grid_column": null,
      "grid_gap": null,
      "grid_row": null,
      "grid_template_areas": null,
      "grid_template_columns": null,
      "grid_template_rows": null,
      "height": null,
      "justify_content": null,
      "justify_items": null,
      "left": null,
      "margin": null,
      "max_height": null,
      "max_width": null,
      "min_height": null,
      "min_width": null,
      "object_fit": null,
      "object_position": null,
      "order": null,
      "overflow": null,
      "overflow_x": null,
      "overflow_y": null,
      "padding": null,
      "right": null,
      "top": null,
      "visibility": null,
      "width": null
     }
    },
    "8420ef4d10a844f982e08eb03c225cd4": {
     "model_module": "@jupyter-widgets/base",
     "model_name": "LayoutModel",
     "state": {
      "_model_module": "@jupyter-widgets/base",
      "_model_module_version": "1.2.0",
      "_model_name": "LayoutModel",
      "_view_count": null,
      "_view_module": "@jupyter-widgets/base",
      "_view_module_version": "1.2.0",
      "_view_name": "LayoutView",
      "align_content": null,
      "align_items": null,
      "align_self": null,
      "border": null,
      "bottom": null,
      "display": null,
      "flex": null,
      "flex_flow": null,
      "grid_area": null,
      "grid_auto_columns": null,
      "grid_auto_flow": null,
      "grid_auto_rows": null,
      "grid_column": null,
      "grid_gap": null,
      "grid_row": null,
      "grid_template_areas": null,
      "grid_template_columns": null,
      "grid_template_rows": null,
      "height": null,
      "justify_content": null,
      "justify_items": null,
      "left": null,
      "margin": null,
      "max_height": null,
      "max_width": null,
      "min_height": null,
      "min_width": null,
      "object_fit": null,
      "object_position": null,
      "order": null,
      "overflow": null,
      "overflow_x": null,
      "overflow_y": null,
      "padding": null,
      "right": null,
      "top": null,
      "visibility": null,
      "width": null
     }
    },
    "84391e0ac211431281ff1913546fd45f": {
     "model_module": "@jupyter-widgets/controls",
     "model_name": "IntProgressModel",
     "state": {
      "_dom_classes": [],
      "_model_module": "@jupyter-widgets/controls",
      "_model_module_version": "1.5.0",
      "_model_name": "IntProgressModel",
      "_view_count": null,
      "_view_module": "@jupyter-widgets/controls",
      "_view_module_version": "1.5.0",
      "_view_name": "ProgressView",
      "bar_style": "success",
      "description": "",
      "description_tooltip": null,
      "layout": "IPY_MODEL_5837b322e9fe420aa4ce8b66c3a91413",
      "max": 400,
      "min": 0,
      "orientation": "horizontal",
      "style": "IPY_MODEL_e229039798314ef39eff5ce8d3d701ec",
      "value": 400
     }
    },
    "8716c4fc7b154681b4f614abef951014": {
     "model_module": "@jupyter-widgets/controls",
     "model_name": "DescriptionStyleModel",
     "state": {
      "_model_module": "@jupyter-widgets/controls",
      "_model_module_version": "1.5.0",
      "_model_name": "DescriptionStyleModel",
      "_view_count": null,
      "_view_module": "@jupyter-widgets/base",
      "_view_module_version": "1.2.0",
      "_view_name": "StyleView",
      "description_width": ""
     }
    },
    "96247fe69e6b48c8b2c1d3d3ae14c91f": {
     "model_module": "@jupyter-widgets/controls",
     "model_name": "DescriptionStyleModel",
     "state": {
      "_model_module": "@jupyter-widgets/controls",
      "_model_module_version": "1.5.0",
      "_model_name": "DescriptionStyleModel",
      "_view_count": null,
      "_view_module": "@jupyter-widgets/base",
      "_view_module_version": "1.2.0",
      "_view_name": "StyleView",
      "description_width": ""
     }
    },
    "a4611a41207d46d3991ba0aec44f3df7": {
     "model_module": "@jupyter-widgets/controls",
     "model_name": "ProgressStyleModel",
     "state": {
      "_model_module": "@jupyter-widgets/controls",
      "_model_module_version": "1.5.0",
      "_model_name": "ProgressStyleModel",
      "_view_count": null,
      "_view_module": "@jupyter-widgets/base",
      "_view_module_version": "1.2.0",
      "_view_name": "StyleView",
      "bar_color": null,
      "description_width": ""
     }
    },
    "a77212fa14274940ace1191dec48dc74": {
     "model_module": "@jupyter-widgets/controls",
     "model_name": "ProgressStyleModel",
     "state": {
      "_model_module": "@jupyter-widgets/controls",
      "_model_module_version": "1.5.0",
      "_model_name": "ProgressStyleModel",
      "_view_count": null,
      "_view_module": "@jupyter-widgets/base",
      "_view_module_version": "1.2.0",
      "_view_name": "StyleView",
      "bar_color": null,
      "description_width": ""
     }
    },
    "a809aa34e5714751b0eadc16c4d81bf5": {
     "model_module": "@jupyter-widgets/base",
     "model_name": "LayoutModel",
     "state": {
      "_model_module": "@jupyter-widgets/base",
      "_model_module_version": "1.2.0",
      "_model_name": "LayoutModel",
      "_view_count": null,
      "_view_module": "@jupyter-widgets/base",
      "_view_module_version": "1.2.0",
      "_view_name": "LayoutView",
      "align_content": null,
      "align_items": null,
      "align_self": null,
      "border": null,
      "bottom": null,
      "display": null,
      "flex": null,
      "flex_flow": null,
      "grid_area": null,
      "grid_auto_columns": null,
      "grid_auto_flow": null,
      "grid_auto_rows": null,
      "grid_column": null,
      "grid_gap": null,
      "grid_row": null,
      "grid_template_areas": null,
      "grid_template_columns": null,
      "grid_template_rows": null,
      "height": null,
      "justify_content": null,
      "justify_items": null,
      "left": null,
      "margin": null,
      "max_height": null,
      "max_width": null,
      "min_height": null,
      "min_width": null,
      "object_fit": null,
      "object_position": null,
      "order": null,
      "overflow": null,
      "overflow_x": null,
      "overflow_y": null,
      "padding": null,
      "right": null,
      "top": null,
      "visibility": null,
      "width": null
     }
    },
    "b377c69fd4f14ef5b3ad4f0aa24a6634": {
     "model_module": "@jupyter-widgets/base",
     "model_name": "LayoutModel",
     "state": {
      "_model_module": "@jupyter-widgets/base",
      "_model_module_version": "1.2.0",
      "_model_name": "LayoutModel",
      "_view_count": null,
      "_view_module": "@jupyter-widgets/base",
      "_view_module_version": "1.2.0",
      "_view_name": "LayoutView",
      "align_content": null,
      "align_items": null,
      "align_self": null,
      "border": null,
      "bottom": null,
      "display": null,
      "flex": null,
      "flex_flow": null,
      "grid_area": null,
      "grid_auto_columns": null,
      "grid_auto_flow": null,
      "grid_auto_rows": null,
      "grid_column": null,
      "grid_gap": null,
      "grid_row": null,
      "grid_template_areas": null,
      "grid_template_columns": null,
      "grid_template_rows": null,
      "height": null,
      "justify_content": null,
      "justify_items": null,
      "left": null,
      "margin": null,
      "max_height": null,
      "max_width": null,
      "min_height": null,
      "min_width": null,
      "object_fit": null,
      "object_position": null,
      "order": null,
      "overflow": null,
      "overflow_x": null,
      "overflow_y": null,
      "padding": null,
      "right": null,
      "top": null,
      "visibility": null,
      "width": null
     }
    },
    "bee784c89b6d4862a0ad4ca0ff9e9ed2": {
     "model_module": "@jupyter-widgets/controls",
     "model_name": "HBoxModel",
     "state": {
      "_dom_classes": [],
      "_model_module": "@jupyter-widgets/controls",
      "_model_module_version": "1.5.0",
      "_model_name": "HBoxModel",
      "_view_count": null,
      "_view_module": "@jupyter-widgets/controls",
      "_view_module_version": "1.5.0",
      "_view_name": "HBoxView",
      "box_style": "",
      "children": [
       "IPY_MODEL_061b8ee949e543a1a90f7f173d401f9c",
       "IPY_MODEL_0cfdc111e2fd47e7b818862f0562d231"
      ],
      "layout": "IPY_MODEL_b377c69fd4f14ef5b3ad4f0aa24a6634"
     }
    },
    "da7f7d2c97874f51b2fba02ab955c740": {
     "model_module": "@jupyter-widgets/controls",
     "model_name": "HTMLModel",
     "state": {
      "_dom_classes": [],
      "_model_module": "@jupyter-widgets/controls",
      "_model_module_version": "1.5.0",
      "_model_name": "HTMLModel",
      "_view_count": null,
      "_view_module": "@jupyter-widgets/controls",
      "_view_module_version": "1.5.0",
      "_view_name": "HTMLView",
      "description": "",
      "description_tooltip": null,
      "layout": "IPY_MODEL_6cf30dec1582465e9d75ed5b7430bf6d",
      "placeholder": "​",
      "style": "IPY_MODEL_dd8a2dadd73342e18550d294dda41db6",
      "value": "100% 60/60 [09:25&lt;00:00,  9.47s/it]"
     }
    },
    "dd8a2dadd73342e18550d294dda41db6": {
     "model_module": "@jupyter-widgets/controls",
     "model_name": "DescriptionStyleModel",
     "state": {
      "_model_module": "@jupyter-widgets/controls",
      "_model_module_version": "1.5.0",
      "_model_name": "DescriptionStyleModel",
      "_view_count": null,
      "_view_module": "@jupyter-widgets/base",
      "_view_module_version": "1.2.0",
      "_view_name": "StyleView",
      "description_width": ""
     }
    },
    "e229039798314ef39eff5ce8d3d701ec": {
     "model_module": "@jupyter-widgets/controls",
     "model_name": "ProgressStyleModel",
     "state": {
      "_model_module": "@jupyter-widgets/controls",
      "_model_module_version": "1.5.0",
      "_model_name": "ProgressStyleModel",
      "_view_count": null,
      "_view_module": "@jupyter-widgets/base",
      "_view_module_version": "1.2.0",
      "_view_name": "StyleView",
      "bar_color": null,
      "description_width": ""
     }
    },
    "e5cedff785ed42e6887f222ab8766b33": {
     "model_module": "@jupyter-widgets/controls",
     "model_name": "HTMLModel",
     "state": {
      "_dom_classes": [],
      "_model_module": "@jupyter-widgets/controls",
      "_model_module_version": "1.5.0",
      "_model_name": "HTMLModel",
      "_view_count": null,
      "_view_module": "@jupyter-widgets/controls",
      "_view_module_version": "1.5.0",
      "_view_name": "HTMLView",
      "description": "",
      "description_tooltip": null,
      "layout": "IPY_MODEL_8256934d9b8e4529b749342c04813753",
      "placeholder": "​",
      "style": "IPY_MODEL_96247fe69e6b48c8b2c1d3d3ae14c91f",
      "value": "100% 50/50 [06:33&lt;00:00,  7.88s/it]"
     }
    },
    "ea7922a2a84849b68d41bcd32abb1020": {
     "model_module": "@jupyter-widgets/controls",
     "model_name": "IntProgressModel",
     "state": {
      "_dom_classes": [],
      "_model_module": "@jupyter-widgets/controls",
      "_model_module_version": "1.5.0",
      "_model_name": "IntProgressModel",
      "_view_count": null,
      "_view_module": "@jupyter-widgets/controls",
      "_view_module_version": "1.5.0",
      "_view_name": "ProgressView",
      "bar_style": "success",
      "description": "",
      "description_tooltip": null,
      "layout": "IPY_MODEL_ff8c09097b5346a2836e16fa056d9c22",
      "max": 50,
      "min": 0,
      "orientation": "horizontal",
      "style": "IPY_MODEL_a4611a41207d46d3991ba0aec44f3df7",
      "value": 50
     }
    },
    "f50746f4b35a4e22898a30de03ca0271": {
     "model_module": "@jupyter-widgets/controls",
     "model_name": "IntProgressModel",
     "state": {
      "_dom_classes": [],
      "_model_module": "@jupyter-widgets/controls",
      "_model_module_version": "1.5.0",
      "_model_name": "IntProgressModel",
      "_view_count": null,
      "_view_module": "@jupyter-widgets/controls",
      "_view_module_version": "1.5.0",
      "_view_name": "ProgressView",
      "bar_style": "success",
      "description": "",
      "description_tooltip": null,
      "layout": "IPY_MODEL_54de5fabfb8e4487b32afd657c521185",
      "max": 60,
      "min": 0,
      "orientation": "horizontal",
      "style": "IPY_MODEL_07418e1a42cb40bb98da06a7195c55d9",
      "value": 60
     }
    },
    "f9aec20178d2413f93fd3b65be85a52f": {
     "model_module": "@jupyter-widgets/controls",
     "model_name": "DescriptionStyleModel",
     "state": {
      "_model_module": "@jupyter-widgets/controls",
      "_model_module_version": "1.5.0",
      "_model_name": "DescriptionStyleModel",
      "_view_count": null,
      "_view_module": "@jupyter-widgets/base",
      "_view_module_version": "1.2.0",
      "_view_name": "StyleView",
      "description_width": ""
     }
    },
    "ff8c09097b5346a2836e16fa056d9c22": {
     "model_module": "@jupyter-widgets/base",
     "model_name": "LayoutModel",
     "state": {
      "_model_module": "@jupyter-widgets/base",
      "_model_module_version": "1.2.0",
      "_model_name": "LayoutModel",
      "_view_count": null,
      "_view_module": "@jupyter-widgets/base",
      "_view_module_version": "1.2.0",
      "_view_name": "LayoutView",
      "align_content": null,
      "align_items": null,
      "align_self": null,
      "border": null,
      "bottom": null,
      "display": null,
      "flex": null,
      "flex_flow": null,
      "grid_area": null,
      "grid_auto_columns": null,
      "grid_auto_flow": null,
      "grid_auto_rows": null,
      "grid_column": null,
      "grid_gap": null,
      "grid_row": null,
      "grid_template_areas": null,
      "grid_template_columns": null,
      "grid_template_rows": null,
      "height": null,
      "justify_content": null,
      "justify_items": null,
      "left": null,
      "margin": null,
      "max_height": null,
      "max_width": null,
      "min_height": null,
      "min_width": null,
      "object_fit": null,
      "object_position": null,
      "order": null,
      "overflow": null,
      "overflow_x": null,
      "overflow_y": null,
      "padding": null,
      "right": null,
      "top": null,
      "visibility": null,
      "width": null
     }
    }
   }
  }
 },
 "nbformat": 4,
 "nbformat_minor": 1
}
