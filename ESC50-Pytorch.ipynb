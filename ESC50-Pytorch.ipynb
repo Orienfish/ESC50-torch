{
 "cells": [
  {
   "cell_type": "markdown",
   "metadata": {},
   "source": [
    "Adapted from https://github.com/hasithsura/Environmental-Sound-Classification/blob/master/ESC50-Pytorch.ipynb"
   ]
  },
  {
   "cell_type": "code",
   "execution_count": 1,
   "metadata": {
    "colab": {
     "base_uri": "https://localhost:8080/",
     "height": 364
    },
    "colab_type": "code",
    "executionInfo": {
     "elapsed": 48009,
     "status": "ok",
     "timestamp": 1578380343952,
     "user": {
      "displayName": "Hasith Sura",
      "photoUrl": "https://lh3.googleusercontent.com/a-/AAuE7mDzDyQVY4C3qjPKg-UvWYZ1ZVm1SaOwb5y0Eh5p=s64",
      "userId": "07016917453018972566"
     },
     "user_tz": -330
    },
    "id": "VXJfjB0XsKqa",
    "outputId": "3a01f773-869c-4a17-b811-96e360bd2b00"
   },
   "outputs": [],
   "source": [
    "!test ! -f \"master.zip\" && wget \"https://github.com/karoldvl/ESC-50/archive/master.zip\""
   ]
  },
  {
   "cell_type": "code",
   "execution_count": 3,
   "metadata": {
    "colab": {
     "base_uri": "https://localhost:8080/",
     "height": 1000
    },
    "colab_type": "code",
    "executionInfo": {
     "elapsed": 61104,
     "status": "ok",
     "timestamp": 1578380357074,
     "user": {
      "displayName": "Hasith Sura",
      "photoUrl": "https://lh3.googleusercontent.com/a-/AAuE7mDzDyQVY4C3qjPKg-UvWYZ1ZVm1SaOwb5y0Eh5p=s64",
      "userId": "07016917453018972566"
     },
     "user_tz": -330
    },
    "id": "2CxvoJQ33dH_",
    "outputId": "37317403-6a39-4a74-b704-59dfe4923672"
   },
   "outputs": [],
   "source": [
    "!unzip -qq master.zip"
   ]
  },
  {
   "cell_type": "code",
   "execution_count": 4,
   "metadata": {
    "colab": {
     "base_uri": "https://localhost:8080/",
     "height": 34
    },
    "colab_type": "code",
    "executionInfo": {
     "elapsed": 61095,
     "status": "ok",
     "timestamp": 1578380357081,
     "user": {
      "displayName": "Hasith Sura",
      "photoUrl": "https://lh3.googleusercontent.com/a-/AAuE7mDzDyQVY4C3qjPKg-UvWYZ1ZVm1SaOwb5y0Eh5p=s64",
      "userId": "07016917453018972566"
     },
     "user_tz": -330
    },
    "id": "1zHqSZ0PogyE",
    "outputId": "0bb1e068-5772-42e5-fbc2-906fe2d2d58f"
   },
   "outputs": [
    {
     "name": "stdout",
     "output_type": "stream",
     "text": [
      "/home/xiaofan/Github/ESC50-torch/ESC-50-master\n"
     ]
    }
   ],
   "source": [
    "%cd ESC-50-master"
   ]
  },
  {
   "cell_type": "code",
   "execution_count": 5,
   "metadata": {
    "colab": {},
    "colab_type": "code",
    "id": "nYITrh5b5fEm"
   },
   "outputs": [],
   "source": [
    "import pandas as pd\n",
    "import librosa\n",
    "import numpy as np\n",
    "import matplotlib.pyplot as plt\n",
    "import librosa.display\n",
    "import torch\n",
    "import torch.nn as nn\n",
    "import torch.nn.functional as F\n",
    "import torch.optim as optim\n",
    "from torch.utils.data import Dataset, DataLoader\n",
    "from tqdm import tqdm_notebook as tqdm\n",
    "import os"
   ]
  },
  {
   "cell_type": "code",
   "execution_count": 7,
   "metadata": {
    "colab": {},
    "colab_type": "code",
    "id": "VjY7wxtQ4x2S"
   },
   "outputs": [
    {
     "data": {
      "text/html": [
       "<div>\n",
       "<style scoped>\n",
       "    .dataframe tbody tr th:only-of-type {\n",
       "        vertical-align: middle;\n",
       "    }\n",
       "\n",
       "    .dataframe tbody tr th {\n",
       "        vertical-align: top;\n",
       "    }\n",
       "\n",
       "    .dataframe thead th {\n",
       "        text-align: right;\n",
       "    }\n",
       "</style>\n",
       "<table border=\"1\" class=\"dataframe\">\n",
       "  <thead>\n",
       "    <tr style=\"text-align: right;\">\n",
       "      <th></th>\n",
       "      <th>filename</th>\n",
       "      <th>fold</th>\n",
       "      <th>target</th>\n",
       "      <th>category</th>\n",
       "      <th>esc10</th>\n",
       "      <th>src_file</th>\n",
       "      <th>take</th>\n",
       "    </tr>\n",
       "  </thead>\n",
       "  <tbody>\n",
       "    <tr>\n",
       "      <th>0</th>\n",
       "      <td>1-100032-A-0.wav</td>\n",
       "      <td>1</td>\n",
       "      <td>0</td>\n",
       "      <td>dog</td>\n",
       "      <td>True</td>\n",
       "      <td>100032</td>\n",
       "      <td>A</td>\n",
       "    </tr>\n",
       "    <tr>\n",
       "      <th>1</th>\n",
       "      <td>1-100038-A-14.wav</td>\n",
       "      <td>1</td>\n",
       "      <td>14</td>\n",
       "      <td>chirping_birds</td>\n",
       "      <td>False</td>\n",
       "      <td>100038</td>\n",
       "      <td>A</td>\n",
       "    </tr>\n",
       "    <tr>\n",
       "      <th>2</th>\n",
       "      <td>1-100210-A-36.wav</td>\n",
       "      <td>1</td>\n",
       "      <td>36</td>\n",
       "      <td>vacuum_cleaner</td>\n",
       "      <td>False</td>\n",
       "      <td>100210</td>\n",
       "      <td>A</td>\n",
       "    </tr>\n",
       "    <tr>\n",
       "      <th>3</th>\n",
       "      <td>1-100210-B-36.wav</td>\n",
       "      <td>1</td>\n",
       "      <td>36</td>\n",
       "      <td>vacuum_cleaner</td>\n",
       "      <td>False</td>\n",
       "      <td>100210</td>\n",
       "      <td>B</td>\n",
       "    </tr>\n",
       "    <tr>\n",
       "      <th>4</th>\n",
       "      <td>1-101296-A-19.wav</td>\n",
       "      <td>1</td>\n",
       "      <td>19</td>\n",
       "      <td>thunderstorm</td>\n",
       "      <td>False</td>\n",
       "      <td>101296</td>\n",
       "      <td>A</td>\n",
       "    </tr>\n",
       "  </tbody>\n",
       "</table>\n",
       "</div>"
      ],
      "text/plain": [
       "            filename  fold  target        category  esc10  src_file take\n",
       "0   1-100032-A-0.wav     1       0             dog   True    100032    A\n",
       "1  1-100038-A-14.wav     1      14  chirping_birds  False    100038    A\n",
       "2  1-100210-A-36.wav     1      36  vacuum_cleaner  False    100210    A\n",
       "3  1-100210-B-36.wav     1      36  vacuum_cleaner  False    100210    B\n",
       "4  1-101296-A-19.wav     1      19    thunderstorm  False    101296    A"
      ]
     },
     "execution_count": 7,
     "metadata": {},
     "output_type": "execute_result"
    }
   ],
   "source": [
    "df = pd.read_csv('meta/esc50.csv')\n",
    "df.head()"
   ]
  },
  {
   "cell_type": "code",
   "execution_count": 9,
   "metadata": {
    "colab": {
     "base_uri": "https://localhost:8080/",
     "height": 34
    },
    "colab_type": "code",
    "executionInfo": {
     "elapsed": 69391,
     "status": "ok",
     "timestamp": 1578380365425,
     "user": {
      "displayName": "Hasith Sura",
      "photoUrl": "https://lh3.googleusercontent.com/a-/AAuE7mDzDyQVY4C3qjPKg-UvWYZ1ZVm1SaOwb5y0Eh5p=s64",
      "userId": "07016917453018972566"
     },
     "user_tz": -330
    },
    "id": "ZwBpr9ge5k0X",
    "outputId": "1865ac8f-5924-4bf0-a029-323c6c1dbd6d"
   },
   "outputs": [
    {
     "name": "stdout",
     "output_type": "stream",
     "text": [
      "Sampling rate of the audio is 44100 and length of the audio is 5.0 seconds\n"
     ]
    }
   ],
   "source": [
    "wav, sr = librosa.load('audio/1-100032-A-0.wav', sr=None)\n",
    "print(f'Sampling rate of the audio is {sr} and length of the audio is {len(wav)/sr} seconds')"
   ]
  },
  {
   "cell_type": "markdown",
   "metadata": {},
   "source": [
    "## First training and testing on ESC-50"
   ]
  },
  {
   "cell_type": "code",
   "execution_count": 10,
   "metadata": {
    "colab": {},
    "colab_type": "code",
    "id": "QJ3oR-ev5bhw"
   },
   "outputs": [],
   "source": [
    "train = df[df['fold']!=5]\n",
    "valid = df[df['fold']==5]"
   ]
  },
  {
   "cell_type": "code",
   "execution_count": 11,
   "metadata": {
    "colab": {},
    "colab_type": "code",
    "id": "UGt8FYjhJ9jX"
   },
   "outputs": [],
   "source": [
    "def spec_to_image(spec, eps=1e-6):\n",
    "  mean = spec.mean()\n",
    "  std = spec.std()\n",
    "  spec_norm = (spec - mean) / (std + eps)\n",
    "  spec_min, spec_max = spec_norm.min(), spec_norm.max()\n",
    "  spec_scaled = 255 * (spec_norm - spec_min) / (spec_max - spec_min)\n",
    "  spec_scaled = spec_scaled.astype(np.uint8)\n",
    "  return spec_scaled"
   ]
  },
  {
   "cell_type": "code",
   "execution_count": 14,
   "metadata": {
    "colab": {},
    "colab_type": "code",
    "id": "yjW7TI8iKCgU"
   },
   "outputs": [],
   "source": [
    "def get_melspectrogram_db(file_path, sr=None, n_fft=2048, hop_length=512, n_mels=128, fmin=20, fmax=8300, top_db=80):\n",
    "  wav,sr = librosa.load(file_path,sr=sr)\n",
    "  if wav.shape[0]<5*sr:\n",
    "    wav=np.pad(wav,int(np.ceil((5*sr-wav.shape[0])/2)),mode='reflect')\n",
    "  else:\n",
    "    wav=wav[:5*sr]\n",
    "  spec=librosa.feature.melspectrogram(y=wav, sr=sr, n_fft=n_fft,\n",
    "              hop_length=hop_length,n_mels=n_mels,fmin=fmin,fmax=fmax)\n",
    "  spec_db=librosa.power_to_db(spec,top_db=top_db)\n",
    "  return spec_db"
   ]
  },
  {
   "cell_type": "code",
   "execution_count": 15,
   "metadata": {
    "colab": {},
    "colab_type": "code",
    "id": "J5pJvKvpbRHZ"
   },
   "outputs": [
    {
     "name": "stderr",
     "output_type": "stream",
     "text": [
      "/tmp/ipykernel_987582/4029477247.py:14: TqdmDeprecationWarning: This function will be removed in tqdm==5.0.0\n",
      "Please use `tqdm.notebook.tqdm` instead of `tqdm.tqdm_notebook`\n",
      "  for ind in tqdm(range(len(df))):\n"
     ]
    },
    {
     "data": {
      "application/vnd.jupyter.widget-view+json": {
       "model_id": "db995f040dae49f59e9850cf1ec83e7a",
       "version_major": 2,
       "version_minor": 0
      },
      "text/plain": [
       "  0%|          | 0/1600 [00:00<?, ?it/s]"
      ]
     },
     "metadata": {},
     "output_type": "display_data"
    },
    {
     "data": {
      "application/vnd.jupyter.widget-view+json": {
       "model_id": "f1c425cc16644b34903c8a02fff6bb74",
       "version_major": 2,
       "version_minor": 0
      },
      "text/plain": [
       "  0%|          | 0/400 [00:00<?, ?it/s]"
      ]
     },
     "metadata": {},
     "output_type": "display_data"
    }
   ],
   "source": [
    "class ESC50Data(Dataset):\n",
    "  def __init__(self, base, df, in_col, out_col):\n",
    "    self.df = df\n",
    "    self.data = []\n",
    "    self.labels = []\n",
    "    self.c2i={}\n",
    "    self.i2c={}\n",
    "    self.categories = sorted(df[out_col].unique())\n",
    "\n",
    "    for i, category in enumerate(self.categories):\n",
    "      self.c2i[category]=i\n",
    "      self.i2c[i]=category\n",
    "      \n",
    "    for ind in tqdm(range(len(df))):\n",
    "      row = df.iloc[ind]\n",
    "      file_path = os.path.join(base,row[in_col])\n",
    "      self.data.append(spec_to_image(get_melspectrogram_db(file_path))[np.newaxis,...])\n",
    "      self.labels.append(self.c2i[row['category']])\n",
    "\n",
    "  def __len__(self):\n",
    "    return len(self.data)\n",
    "  \n",
    "  def __getitem__(self, idx):\n",
    "    return self.data[idx], self.labels[idx]\n",
    "  \n",
    "train_data = ESC50Data('audio', train, 'filename', 'category')\n",
    "valid_data = ESC50Data('audio', valid, 'filename', 'category')\n",
    "\n",
    "train_loader = DataLoader(train_data, batch_size=16, shuffle=True)\n",
    "valid_loader = DataLoader(valid_data, batch_size=16, shuffle=True)"
   ]
  },
  {
   "cell_type": "code",
   "execution_count": 16,
   "metadata": {
    "colab": {
     "base_uri": "https://localhost:8080/",
     "height": 52
    },
    "colab_type": "code",
    "executionInfo": {
     "elapsed": 882360,
     "status": "ok",
     "timestamp": 1578381184381,
     "user": {
      "displayName": "Hasith Sura",
      "photoUrl": "https://lh3.googleusercontent.com/a-/AAuE7mDzDyQVY4C3qjPKg-UvWYZ1ZVm1SaOwb5y0Eh5p=s64",
      "userId": "07016917453018972566"
     },
     "user_tz": -330
    },
    "id": "E8e0rOOTs4_G",
    "outputId": "8684b6d7-d45d-4112-9ba2-1f08c437a98c"
   },
   "outputs": [
    {
     "name": "stderr",
     "output_type": "stream",
     "text": [
      "/home/xiaofan/anaconda3/envs/esc50-py38/lib/python3.8/site-packages/torchvision/models/_utils.py:208: UserWarning: The parameter 'pretrained' is deprecated since 0.13 and may be removed in the future, please use 'weights' instead.\n",
      "  warnings.warn(\n",
      "/home/xiaofan/anaconda3/envs/esc50-py38/lib/python3.8/site-packages/torchvision/models/_utils.py:223: UserWarning: Arguments other than a weight enum or `None` for 'weights' are deprecated since 0.13 and may be removed in the future. The current behavior is equivalent to passing `weights=ResNet34_Weights.IMAGENET1K_V1`. You can also use `weights=ResNet34_Weights.DEFAULT` to get the most up-to-date weights.\n",
      "  warnings.warn(msg)\n",
      "Downloading: \"https://download.pytorch.org/models/resnet34-b627a593.pth\" to /home/xiaofan/.cache/torch/hub/checkpoints/resnet34-b627a593.pth\n",
      "100%|██████████| 83.3M/83.3M [00:07<00:00, 11.4MB/s]\n"
     ]
    }
   ],
   "source": [
    "from torchvision.models import resnet34\n",
    "if torch.cuda.is_available():\n",
    "  device=torch.device('cuda:0')\n",
    "else:\n",
    "  device=torch.device('cpu')\n",
    "  \n",
    "resnet_model = resnet34(pretrained=True)\n",
    "resnet_model.fc = nn.Linear(512,50)\n",
    "resnet_model.conv1 = nn.Conv2d(1, 64, kernel_size=(7, 7), stride=(2, 2), padding=(3, 3), bias=False)\n",
    "resnet_model = resnet_model.to(device)"
   ]
  },
  {
   "cell_type": "code",
   "execution_count": 18,
   "metadata": {
    "colab": {},
    "colab_type": "code",
    "id": "4WdH7_UUOkJD"
   },
   "outputs": [],
   "source": [
    "def train(model, loss_fn, train_loader, valid_loader, epochs, optimizer, train_losses, valid_losses, change_lr=None):\n",
    "  for epoch in tqdm(range(1,epochs+1)):\n",
    "    model.train()\n",
    "    batch_losses=[]\n",
    "    if change_lr:\n",
    "      optimizer = change_lr(optimizer, epoch)\n",
    "    for i, data in enumerate(train_loader):\n",
    "      x, y = data\n",
    "      optimizer.zero_grad()\n",
    "      x = x.to(device, dtype=torch.float32)\n",
    "      y = y.to(device, dtype=torch.long)\n",
    "      y_hat = model(x)\n",
    "      loss = loss_fn(y_hat, y)\n",
    "      loss.backward()\n",
    "      batch_losses.append(loss.item())\n",
    "      optimizer.step()\n",
    "    train_losses.append(batch_losses)\n",
    "    print(f'Epoch - {epoch} Train-Loss : {np.mean(train_losses[-1])}')\n",
    "    model.eval()\n",
    "    batch_losses=[]\n",
    "    trace_y = []\n",
    "    trace_yhat = []\n",
    "    for i, data in enumerate(valid_loader):\n",
    "      x, y = data\n",
    "      x = x.to(device, dtype=torch.float32)\n",
    "      y = y.to(device, dtype=torch.long)\n",
    "      y_hat = model(x)\n",
    "      loss = loss_fn(y_hat, y)\n",
    "      trace_y.append(y.cpu().detach().numpy())\n",
    "      trace_yhat.append(y_hat.cpu().detach().numpy())      \n",
    "      batch_losses.append(loss.item())\n",
    "    valid_losses.append(batch_losses)\n",
    "    trace_y = np.concatenate(trace_y)\n",
    "    trace_yhat = np.concatenate(trace_yhat)\n",
    "    accuracy = np.mean(trace_yhat.argmax(axis=1)==trace_y)\n",
    "    print(f'Epoch - {epoch} Valid-Loss : {np.mean(valid_losses[-1])} Valid-Accuracy : {accuracy}')"
   ]
  },
  {
   "cell_type": "code",
   "execution_count": 19,
   "metadata": {
    "colab": {
     "base_uri": "https://localhost:8080/",
     "height": 1000,
     "referenced_widgets": [
      "06255689536946a9b605534e84b4b2f2",
      "68556653d48d45f5837a4ee6f9e5c591",
      "ea7922a2a84849b68d41bcd32abb1020",
      "e5cedff785ed42e6887f222ab8766b33",
      "a4611a41207d46d3991ba0aec44f3df7",
      "ff8c09097b5346a2836e16fa056d9c22",
      "96247fe69e6b48c8b2c1d3d3ae14c91f",
      "8256934d9b8e4529b749342c04813753"
     ]
    },
    "colab_type": "code",
    "executionInfo": {
     "elapsed": 1276195,
     "status": "ok",
     "timestamp": 1578381578693,
     "user": {
      "displayName": "Hasith Sura",
      "photoUrl": "https://lh3.googleusercontent.com/a-/AAuE7mDzDyQVY4C3qjPKg-UvWYZ1ZVm1SaOwb5y0Eh5p=s64",
      "userId": "07016917453018972566"
     },
     "user_tz": -330
    },
    "id": "NofH2b_Rus99",
    "outputId": "d615cda3-5200-4792-8ac1-54aecd26b8bb"
   },
   "outputs": [
    {
     "name": "stderr",
     "output_type": "stream",
     "text": [
      "/tmp/ipykernel_987582/209769299.py:2: TqdmDeprecationWarning: This function will be removed in tqdm==5.0.0\n",
      "Please use `tqdm.notebook.tqdm` instead of `tqdm.tqdm_notebook`\n",
      "  for epoch in tqdm(range(1,epochs+1)):\n"
     ]
    },
    {
     "data": {
      "application/vnd.jupyter.widget-view+json": {
       "model_id": "cfe7fcc45ef14b39a03a9d8d5b036c28",
       "version_major": 2,
       "version_minor": 0
      },
      "text/plain": [
       "  0%|          | 0/50 [00:00<?, ?it/s]"
      ]
     },
     "metadata": {},
     "output_type": "display_data"
    },
    {
     "name": "stdout",
     "output_type": "stream",
     "text": [
      "Epoch - 1 Train-Loss : 2.4575073158741\n",
      "Epoch - 1 Valid-Loss : 1.8065631580352783 Valid-Accuracy : 0.4825\n",
      "Epoch - 2 Train-Loss : 1.1256086421012879\n",
      "Epoch - 2 Valid-Loss : 1.5527126216888427 Valid-Accuracy : 0.5625\n",
      "Epoch - 3 Train-Loss : 0.6665041474997997\n",
      "Epoch - 3 Valid-Loss : 1.320265769958496 Valid-Accuracy : 0.62\n",
      "Epoch - 4 Train-Loss : 0.4603935879468918\n",
      "Epoch - 4 Valid-Loss : 1.283077473640442 Valid-Accuracy : 0.6575\n",
      "Epoch - 5 Train-Loss : 0.35344168040901425\n",
      "Epoch - 5 Valid-Loss : 1.178728873729706 Valid-Accuracy : 0.67\n",
      "Epoch - 6 Train-Loss : 0.27274888783693313\n",
      "Epoch - 6 Valid-Loss : 1.0644805312156678 Valid-Accuracy : 0.6975\n",
      "Epoch - 7 Train-Loss : 0.20352890934795143\n",
      "Epoch - 7 Valid-Loss : 1.176005837917328 Valid-Accuracy : 0.71\n",
      "Epoch - 8 Train-Loss : 0.14903923593461513\n",
      "Epoch - 8 Valid-Loss : 1.2364564895629884 Valid-Accuracy : 0.7025\n",
      "Epoch - 9 Train-Loss : 0.1384008975327015\n",
      "Epoch - 9 Valid-Loss : 1.0359130597114563 Valid-Accuracy : 0.7375\n",
      "Changed learning rate to 2e-05\n",
      "Epoch - 10 Train-Loss : 0.0650854806182906\n",
      "Epoch - 10 Valid-Loss : 0.8376230482012034 Valid-Accuracy : 0.7575\n",
      "Epoch - 11 Train-Loss : 0.034308696244843305\n",
      "Epoch - 11 Valid-Loss : 0.830668889284134 Valid-Accuracy : 0.7625\n",
      "Epoch - 12 Train-Loss : 0.028286547334864735\n",
      "Epoch - 12 Valid-Loss : 0.8424540588259697 Valid-Accuracy : 0.77\n",
      "Epoch - 13 Train-Loss : 0.023355018333531916\n",
      "Epoch - 13 Valid-Loss : 0.8149137514829635 Valid-Accuracy : 0.7825\n",
      "Epoch - 14 Train-Loss : 0.018994986014440655\n",
      "Epoch - 14 Valid-Loss : 0.8596746504306794 Valid-Accuracy : 0.77\n",
      "Epoch - 15 Train-Loss : 0.01832786753308028\n",
      "Epoch - 15 Valid-Loss : 0.8086562776565551 Valid-Accuracy : 0.7825\n",
      "Epoch - 16 Train-Loss : 0.020753290506545456\n",
      "Epoch - 16 Valid-Loss : 0.815640971660614 Valid-Accuracy : 0.7675\n",
      "Epoch - 17 Train-Loss : 0.016832102809567005\n",
      "Epoch - 17 Valid-Loss : 0.828687025308609 Valid-Accuracy : 0.7825\n",
      "Epoch - 18 Train-Loss : 0.013284091716632246\n",
      "Epoch - 18 Valid-Loss : 0.8314019477367401 Valid-Accuracy : 0.7725\n",
      "Epoch - 19 Train-Loss : 0.013539280649274588\n",
      "Epoch - 19 Valid-Loss : 0.8378700840473176 Valid-Accuracy : 0.7875\n",
      "Changed learning rate to 2e-06\n",
      "Epoch - 20 Train-Loss : 0.011539916775655001\n",
      "Epoch - 20 Valid-Loss : 0.8309106481075287 Valid-Accuracy : 0.7675\n",
      "Epoch - 21 Train-Loss : 0.01013538914732635\n",
      "Epoch - 21 Valid-Loss : 0.8324513313174248 Valid-Accuracy : 0.79\n",
      "Epoch - 22 Train-Loss : 0.010076413871720433\n",
      "Epoch - 22 Valid-Loss : 0.838588148355484 Valid-Accuracy : 0.7725\n",
      "Epoch - 23 Train-Loss : 0.01275933692115359\n",
      "Epoch - 23 Valid-Loss : 0.8367470175027847 Valid-Accuracy : 0.8\n",
      "Epoch - 24 Train-Loss : 0.012154253078624605\n",
      "Epoch - 24 Valid-Loss : 0.8433462047576904 Valid-Accuracy : 0.7775\n",
      "Epoch - 25 Train-Loss : 0.010920717207482085\n",
      "Epoch - 25 Valid-Loss : 0.830743529945612 Valid-Accuracy : 0.78\n",
      "Epoch - 26 Train-Loss : 0.011754994068760426\n",
      "Epoch - 26 Valid-Loss : 0.8600620424747467 Valid-Accuracy : 0.7825\n",
      "Epoch - 27 Train-Loss : 0.009939449483063072\n",
      "Epoch - 27 Valid-Loss : 0.8163011637330055 Valid-Accuracy : 0.795\n",
      "Epoch - 28 Train-Loss : 0.012561013484373688\n",
      "Epoch - 28 Valid-Loss : 0.8304005837440491 Valid-Accuracy : 0.79\n",
      "Epoch - 29 Train-Loss : 0.010581436837092041\n",
      "Epoch - 29 Valid-Loss : 0.8121913689374923 Valid-Accuracy : 0.7925\n",
      "Changed learning rate to 2.0000000000000002e-07\n",
      "Epoch - 30 Train-Loss : 0.008995696031488478\n",
      "Epoch - 30 Valid-Loss : 0.8140314000844956 Valid-Accuracy : 0.795\n",
      "Epoch - 31 Train-Loss : 0.00814304497325793\n",
      "Epoch - 31 Valid-Loss : 0.8370538645982742 Valid-Accuracy : 0.785\n",
      "Epoch - 32 Train-Loss : 0.008797051822766662\n",
      "Epoch - 32 Valid-Loss : 0.8028090497851372 Valid-Accuracy : 0.78\n",
      "Epoch - 33 Train-Loss : 0.009667056475300341\n",
      "Epoch - 33 Valid-Loss : 0.8279464823007584 Valid-Accuracy : 0.79\n",
      "Epoch - 34 Train-Loss : 0.009226987606380134\n",
      "Epoch - 34 Valid-Loss : 0.8387113228440285 Valid-Accuracy : 0.7925\n",
      "Epoch - 35 Train-Loss : 0.010288467830978334\n",
      "Epoch - 35 Valid-Loss : 0.8114619046449661 Valid-Accuracy : 0.7925\n",
      "Epoch - 36 Train-Loss : 0.011986543275415897\n",
      "Epoch - 36 Valid-Loss : 0.8293077230453492 Valid-Accuracy : 0.7925\n",
      "Epoch - 37 Train-Loss : 0.008685105469776317\n",
      "Epoch - 37 Valid-Loss : 0.8273353251814842 Valid-Accuracy : 0.78\n",
      "Epoch - 38 Train-Loss : 0.010336863729171454\n",
      "Epoch - 38 Valid-Loss : 0.8364379549026489 Valid-Accuracy : 0.795\n",
      "Epoch - 39 Train-Loss : 0.010510700815357267\n",
      "Epoch - 39 Valid-Loss : 0.8118485197424888 Valid-Accuracy : 0.79\n",
      "Changed learning rate to 2e-08\n",
      "Epoch - 40 Train-Loss : 0.01205202900338918\n",
      "Epoch - 40 Valid-Loss : 0.8338938176631927 Valid-Accuracy : 0.785\n",
      "Epoch - 41 Train-Loss : 0.009976329405326397\n",
      "Epoch - 41 Valid-Loss : 0.8320728528499604 Valid-Accuracy : 0.7925\n",
      "Epoch - 42 Train-Loss : 0.010008251703111455\n",
      "Epoch - 42 Valid-Loss : 0.8438737487792969 Valid-Accuracy : 0.785\n",
      "Epoch - 43 Train-Loss : 0.012469897491391747\n",
      "Epoch - 43 Valid-Loss : 0.8108320534229279 Valid-Accuracy : 0.79\n",
      "Epoch - 44 Train-Loss : 0.010346149862743913\n",
      "Epoch - 44 Valid-Loss : 0.8226827192306518 Valid-Accuracy : 0.7975\n",
      "Epoch - 45 Train-Loss : 0.009347224248340353\n",
      "Epoch - 45 Valid-Loss : 0.8229323157668114 Valid-Accuracy : 0.7825\n",
      "Epoch - 46 Train-Loss : 0.015868314418476075\n",
      "Epoch - 46 Valid-Loss : 0.8293576514720917 Valid-Accuracy : 0.78\n",
      "Epoch - 47 Train-Loss : 0.010831304066814483\n",
      "Epoch - 47 Valid-Loss : 0.8381816211342812 Valid-Accuracy : 0.78\n",
      "Epoch - 48 Train-Loss : 0.009977491940371692\n",
      "Epoch - 48 Valid-Loss : 0.8212427325546742 Valid-Accuracy : 0.785\n",
      "Epoch - 49 Train-Loss : 0.008158531641820446\n",
      "Epoch - 49 Valid-Loss : 0.8202604514360428 Valid-Accuracy : 0.7875\n",
      "Changed learning rate to 2e-09\n",
      "Epoch - 50 Train-Loss : 0.008240307868691161\n",
      "Epoch - 50 Valid-Loss : 0.8317346328496933 Valid-Accuracy : 0.785\n"
     ]
    }
   ],
   "source": [
    "def setlr(optimizer, lr):\n",
    "  for param_group in optimizer.param_groups:\n",
    "    param_group['lr'] = lr\n",
    "  return optimizer\n",
    "\n",
    "learning_rate = 2e-4\n",
    "optimizer = optim.Adam(resnet_model.parameters(), lr=learning_rate)\n",
    "epochs = 50\n",
    "loss_fn = nn.CrossEntropyLoss()\n",
    "resnet_train_losses=[]\n",
    "resnet_valid_losses=[]\n",
    "def lr_decay(optimizer, epoch):\n",
    "  if epoch%10==0:\n",
    "    new_lr = learning_rate / (10**(epoch//10))\n",
    "    optimizer = setlr(optimizer, new_lr)\n",
    "    print(f'Changed learning rate to {new_lr}')\n",
    "  return optimizer\n",
    "train(resnet_model, loss_fn, train_loader, valid_loader, epochs, optimizer, resnet_train_losses, resnet_valid_losses, lr_decay)"
   ]
  },
  {
   "cell_type": "code",
   "execution_count": 20,
   "metadata": {
    "colab": {
     "base_uri": "https://localhost:8080/",
     "height": 391
    },
    "colab_type": "code",
    "executionInfo": {
     "elapsed": 882862,
     "status": "ok",
     "timestamp": 1578381183906,
     "user": {
      "displayName": "Hasith Sura",
      "photoUrl": "https://lh3.googleusercontent.com/a-/AAuE7mDzDyQVY4C3qjPKg-UvWYZ1ZVm1SaOwb5y0Eh5p=s64",
      "userId": "07016917453018972566"
     },
     "user_tz": -330
    },
    "id": "ctpqvds2QNuP",
    "outputId": "26940356-bd41-4872-e305-a6d35f031f7f"
   },
   "outputs": [
    {
     "data": {
      "text/plain": [
       "<matplotlib.legend.Legend at 0x7fb6a5e52250>"
      ]
     },
     "execution_count": 20,
     "metadata": {},
     "output_type": "execute_result"
    },
    {
     "data": {
      "image/png": "[encoded data removed]",
      "text/plain": [
       "<Figure size 864x432 with 2 Axes>"
      ]
     },
     "metadata": {
      "needs_background": "light"
     },
     "output_type": "display_data"
    }
   ],
   "source": [
    "tl = np.asarray(resnet_train_losses).ravel()\n",
    "vl = np.asarray(resnet_valid_losses).ravel()\n",
    "plt.figure(figsize=(12,6))\n",
    "plt.subplot(1,2,1)\n",
    "plt.plot(tl)\n",
    "plt.legend(['Train Loss'])\n",
    "plt.subplot(1,2,2)\n",
    "plt.plot(vl,'orange')\n",
    "plt.legend(['Valid Loss'])\n"
   ]
  },
  {
   "cell_type": "markdown",
   "metadata": {},
   "source": [
    "## Visualization to help understanding"
   ]
  },
  {
   "cell_type": "code",
   "execution_count": 24,
   "metadata": {
    "colab": {
     "base_uri": "https://localhost:8080/",
     "height": 296
    },
    "colab_type": "code",
    "executionInfo": {
     "elapsed": 69360,
     "status": "ok",
     "timestamp": 1578380365435,
     "user": {
      "displayName": "Hasith Sura",
      "photoUrl": "https://lh3.googleusercontent.com/a-/AAuE7mDzDyQVY4C3qjPKg-UvWYZ1ZVm1SaOwb5y0Eh5p=s64",
      "userId": "07016917453018972566"
     },
     "user_tz": -330
    },
    "id": "rZF7NncG4s8z",
    "outputId": "95fbe8d3-a3af-43d9-ed42-c4965d93ca7e"
   },
   "outputs": [
    {
     "data": {
      "text/plain": [
       "<librosa.display.AdaptiveWaveplot at 0x7fb5a00978b0>"
      ]
     },
     "execution_count": 24,
     "metadata": {},
     "output_type": "execute_result"
    },
    {
     "data": {
      "image/png": "[encoded data removed]",
      "text/plain": [
       "<Figure size 432x288 with 1 Axes>"
      ]
     },
     "metadata": {
      "needs_background": "light"
     },
     "output_type": "display_data"
    }
   ],
   "source": [
    "import librosa.display\n",
    "filename = valid[valid['category']=='clock_tick'].iloc[0]['filename']\n",
    "wav, sr = librosa.load('audio/'+filename, sr=None)\n",
    "librosa.display.waveshow(wav, sr=sr)"
   ]
  },
  {
   "cell_type": "code",
   "execution_count": 25,
   "metadata": {
    "colab": {
     "base_uri": "https://localhost:8080/",
     "height": 269
    },
    "colab_type": "code",
    "executionInfo": {
     "elapsed": 69346,
     "status": "ok",
     "timestamp": 1578380365436,
     "user": {
      "displayName": "Hasith Sura",
      "photoUrl": "https://lh3.googleusercontent.com/a-/AAuE7mDzDyQVY4C3qjPKg-UvWYZ1ZVm1SaOwb5y0Eh5p=s64",
      "userId": "07016917453018972566"
     },
     "user_tz": -330
    },
    "id": "ezdcFKve6E_e",
    "outputId": "32852333-3598-449e-a528-df5993825399"
   },
   "outputs": [
    {
     "data": {
      "text/plain": [
       "<matplotlib.collections.QuadMesh at 0x7fb528fca670>"
      ]
     },
     "execution_count": 25,
     "metadata": {},
     "output_type": "execute_result"
    },
    {
     "data": {
      "image/png": "[encoded data removed]",
      "text/plain": [
       "<Figure size 432x288 with 1 Axes>"
      ]
     },
     "metadata": {},
     "output_type": "display_data"
    }
   ],
   "source": [
    "librosa.display.specshow(spec_to_image(get_melspectrogram_db('audio/'+filename, sr)), cmap='viridis')"
   ]
  }
 ],
 "metadata": {
  "accelerator": "GPU",
  "colab": {
   "collapsed_sections": [],
   "machine_shape": "hm",
   "name": "ESC50-Pytorch.ipynb",
   "provenance": []
  },
  "kernelspec": {
   "display_name": "Python 3",
   "language": "python",
   "name": "python3"
  },
  "language_info": {
   "codemirror_mode": {
    "name": "ipython",
    "version": 3
   },
   "file_extension": ".py",
   "mimetype": "text/x-python",
   "name": "python",
   "nbconvert_exporter": "python",
   "pygments_lexer": "ipython3",
   "version": "3.7.4"
  },
  "widgets": {
   "application/vnd.jupyter.widget-state+json": {
    "030c47630bd6415bb89198348080ba02": {
     "model_module": "@jupyter-widgets/base",
     "model_name": "LayoutModel",
     "state": {
      "_model_module": "@jupyter-widgets/base",
      "_model_module_version": "1.2.0",
      "_model_name": "LayoutModel",
      "_view_count": null,
      "_view_module": "@jupyter-widgets/base",
      "_view_module_version": "1.2.0",
      "_view_name": "LayoutView",
      "align_content": null,
      "align_items": null,
      "align_self": null,
      "border": null,
      "bottom": null,
      "display": null,
      "flex": null,
      "flex_flow": null,
      "grid_area": null,
      "grid_auto_columns": null,
      "grid_auto_flow": null,
      "grid_auto_rows": null,
      "grid_column": null,
      "grid_gap": null,
      "grid_row": null,
      "grid_template_areas": null,
      "grid_template_columns": null,
      "grid_template_rows": null,
      "height": null,
      "justify_content": null,
      "justify_items": null,
      "left": null,
      "margin": null,
      "max_height": null,
      "max_width": null,
      "min_height": null,
      "min_width": null,
      "object_fit": null,
      "object_position": null,
      "order": null,
      "overflow": null,
      "overflow_x": null,
      "overflow_y": null,
      "padding": null,
      "right": null,
      "top": null,
      "visibility": null,
      "width": null
     }
    },
    "04c3d4d827454eeb95f991db3196625a": {
     "model_module": "@jupyter-widgets/base",
     "model_name": "LayoutModel",
     "state": {
      "_model_module": "@jupyter-widgets/base",
      "_model_module_version": "1.2.0",
      "_model_name": "LayoutModel",
      "_view_count": null,
      "_view_module": "@jupyter-widgets/base",
      "_view_module_version": "1.2.0",
      "_view_name": "LayoutView",
      "align_content": null,
      "align_items": null,
      "align_self": null,
      "border": null,
      "bottom": null,
      "display": null,
      "flex": null,
      "flex_flow": null,
      "grid_area": null,
      "grid_auto_columns": null,
      "grid_auto_flow": null,
      "grid_auto_rows": null,
      "grid_column": null,
      "grid_gap": null,
      "grid_row": null,
      "grid_template_areas": null,
      "grid_template_columns": null,
      "grid_template_rows": null,
      "height": null,
      "justify_content": null,
      "justify_items": null,
      "left": null,
      "margin": null,
      "max_height": null,
      "max_width": null,
      "min_height": null,
      "min_width": null,
      "object_fit": null,
      "object_position": null,
      "order": null,
      "overflow": null,
      "overflow_x": null,
      "overflow_y": null,
      "padding": null,
      "right": null,
      "top": null,
      "visibility": null,
      "width": null
     }
    },
    "061b8ee949e543a1a90f7f173d401f9c": {
     "model_module": "@jupyter-widgets/controls",
     "model_name": "IntProgressModel",
     "state": {
      "_dom_classes": [],
      "_model_module": "@jupyter-widgets/controls",
      "_model_module_version": "1.5.0",
      "_model_name": "IntProgressModel",
      "_view_count": null,
      "_view_module": "@jupyter-widgets/controls",
      "_view_module_version": "1.5.0",
      "_view_name": "ProgressView",
      "bar_style": "success",
      "description": "",
      "description_tooltip": null,
      "layout": "IPY_MODEL_a809aa34e5714751b0eadc16c4d81bf5",
      "max": 1600,
      "min": 0,
      "orientation": "horizontal",
      "style": "IPY_MODEL_a77212fa14274940ace1191dec48dc74",
      "value": 1600
     }
    },
    "06255689536946a9b605534e84b4b2f2": {
     "model_module": "@jupyter-widgets/controls",
     "model_name": "HBoxModel",
     "state": {
      "_dom_classes": [],
      "_model_module": "@jupyter-widgets/controls",
      "_model_module_version": "1.5.0",
      "_model_name": "HBoxModel",
      "_view_count": null,
      "_view_module": "@jupyter-widgets/controls",
      "_view_module_version": "1.5.0",
      "_view_name": "HBoxView",
      "box_style": "",
      "children": [
       "IPY_MODEL_ea7922a2a84849b68d41bcd32abb1020",
       "IPY_MODEL_e5cedff785ed42e6887f222ab8766b33"
      ],
      "layout": "IPY_MODEL_68556653d48d45f5837a4ee6f9e5c591"
     }
    },
    "07418e1a42cb40bb98da06a7195c55d9": {
     "model_module": "@jupyter-widgets/controls",
     "model_name": "ProgressStyleModel",
     "state": {
      "_model_module": "@jupyter-widgets/controls",
      "_model_module_version": "1.5.0",
      "_model_name": "ProgressStyleModel",
      "_view_count": null,
      "_view_module": "@jupyter-widgets/base",
      "_view_module_version": "1.2.0",
      "_view_name": "StyleView",
      "bar_color": null,
      "description_width": ""
     }
    },
    "0cfdc111e2fd47e7b818862f0562d231": {
     "model_module": "@jupyter-widgets/controls",
     "model_name": "HTMLModel",
     "state": {
      "_dom_classes": [],
      "_model_module": "@jupyter-widgets/controls",
      "_model_module_version": "1.5.0",
      "_model_name": "HTMLModel",
      "_view_count": null,
      "_view_module": "@jupyter-widgets/controls",
      "_view_module_version": "1.5.0",
      "_view_name": "HTMLView",
      "description": "",
      "description_tooltip": null,
      "layout": "IPY_MODEL_8420ef4d10a844f982e08eb03c225cd4",
      "placeholder": "​",
      "style": "IPY_MODEL_f9aec20178d2413f93fd3b65be85a52f",
      "value": "100% 1600/1600 [03:12&lt;00:00,  8.18it/s]"
     }
    },
    "28f5d1e5487741fe8d77d10348742d52": {
     "model_module": "@jupyter-widgets/controls",
     "model_name": "HBoxModel",
     "state": {
      "_dom_classes": [],
      "_model_module": "@jupyter-widgets/controls",
      "_model_module_version": "1.5.0",
      "_model_name": "HBoxModel",
      "_view_count": null,
      "_view_module": "@jupyter-widgets/controls",
      "_view_module_version": "1.5.0",
      "_view_name": "HBoxView",
      "box_style": "",
      "children": [
       "IPY_MODEL_84391e0ac211431281ff1913546fd45f",
       "IPY_MODEL_58510864c0a64da2b5432df23ab2f158"
      ],
      "layout": "IPY_MODEL_030c47630bd6415bb89198348080ba02"
     }
    },
    "54de5fabfb8e4487b32afd657c521185": {
     "model_module": "@jupyter-widgets/base",
     "model_name": "LayoutModel",
     "state": {
      "_model_module": "@jupyter-widgets/base",
      "_model_module_version": "1.2.0",
      "_model_name": "LayoutModel",
      "_view_count": null,
      "_view_module": "@jupyter-widgets/base",
      "_view_module_version": "1.2.0",
      "_view_name": "LayoutView",
      "align_content": null,
      "align_items": null,
      "align_self": null,
      "border": null,
      "bottom": null,
      "display": null,
      "flex": null,
      "flex_flow": null,
      "grid_area": null,
      "grid_auto_columns": null,
      "grid_auto_flow": null,
      "grid_auto_rows": null,
      "grid_column": null,
      "grid_gap": null,
      "grid_row": null,
      "grid_template_areas": null,
      "grid_template_columns": null,
      "grid_template_rows": null,
      "height": null,
      "justify_content": null,
      "justify_items": null,
      "left": null,
      "margin": null,
      "max_height": null,
      "max_width": null,
      "min_height": null,
      "min_width": null,
      "object_fit": null,
      "object_position": null,
      "order": null,
      "overflow": null,
      "overflow_x": null,
      "overflow_y": null,
      "padding": null,
      "right": null,
      "top": null,
      "visibility": null,
      "width": null
     }
    },
    "5837b322e9fe420aa4ce8b66c3a91413": {
     "model_module": "@jupyter-widgets/base",
     "model_name": "LayoutModel",
     "state": {
      "_model_module": "@jupyter-widgets/base",
      "_model_module_version": "1.2.0",
      "_model_name": "LayoutModel",
      "_view_count": null,
      "_view_module": "@jupyter-widgets/base",
      "_view_module_version": "1.2.0",
      "_view_name": "LayoutView",
      "align_content": null,
      "align_items": null,
      "align_self": null,
      "border": null,
      "bottom": null,
      "display": null,
      "flex": null,
      "flex_flow": null,
      "grid_area": null,
      "grid_auto_columns": null,
      "grid_auto_flow": null,
      "grid_auto_rows": null,
      "grid_column": null,
      "grid_gap": null,
      "grid_row": null,
      "grid_template_areas": null,
      "grid_template_columns": null,
      "grid_template_rows": null,
      "height": null,
      "justify_content": null,
      "justify_items": null,
      "left": null,
      "margin": null,
      "max_height": null,
      "max_width": null,
      "min_height": null,
      "min_width": null,
      "object_fit": null,
      "object_position": null,
      "order": null,
      "overflow": null,
      "overflow_x": null,
      "overflow_y": null,
      "padding": null,
      "right": null,
      "top": null,
      "visibility": null,
      "width": null
     }
    },
    "58510864c0a64da2b5432df23ab2f158": {
     "model_module": "@jupyter-widgets/controls",
     "model_name": "HTMLModel",
     "state": {
      "_dom_classes": [],
      "_model_module": "@jupyter-widgets/controls",
      "_model_module_version": "1.5.0",
      "_model_name": "HTMLModel",
      "_view_count": null,
      "_view_module": "@jupyter-widgets/controls",
      "_view_module_version": "1.5.0",
      "_view_name": "HTMLView",
      "description": "",
      "description_tooltip": null,
      "layout": "IPY_MODEL_6c3e9b829cf048dc93eedc83fc931c10",
      "placeholder": "​",
      "style": "IPY_MODEL_8716c4fc7b154681b4f614abef951014",
      "value": "100% 400/400 [00:50&lt;00:00,  7.51it/s]"
     }
    },
    "68556653d48d45f5837a4ee6f9e5c591": {
     "model_module": "@jupyter-widgets/base",
     "model_name": "LayoutModel",
     "state": {
      "_model_module": "@jupyter-widgets/base",
      "_model_module_version": "1.2.0",
      "_model_name": "LayoutModel",
      "_view_count": null,
      "_view_module": "@jupyter-widgets/base",
      "_view_module_version": "1.2.0",
      "_view_name": "LayoutView",
      "align_content": null,
      "align_items": null,
      "align_self": null,
      "border": null,
      "bottom": null,
      "display": null,
      "flex": null,
      "flex_flow": null,
      "grid_area": null,
      "grid_auto_columns": null,
      "grid_auto_flow": null,
      "grid_auto_rows": null,
      "grid_column": null,
      "grid_gap": null,
      "grid_row": null,
      "grid_template_areas": null,
      "grid_template_columns": null,
      "grid_template_rows": null,
      "height": null,
      "justify_content": null,
      "justify_items": null,
      "left": null,
      "margin": null,
      "max_height": null,
      "max_width": null,
      "min_height": null,
      "min_width": null,
      "object_fit": null,
      "object_position": null,
      "order": null,
      "overflow": null,
      "overflow_x": null,
      "overflow_y": null,
      "padding": null,
      "right": null,
      "top": null,
      "visibility": null,
      "width": null
     }
    },
    "6c3e9b829cf048dc93eedc83fc931c10": {
     "model_module": "@jupyter-widgets/base",
     "model_name": "LayoutModel",
     "state": {
      "_model_module": "@jupyter-widgets/base",
      "_model_module_version": "1.2.0",
      "_model_name": "LayoutModel",
      "_view_count": null,
      "_view_module": "@jupyter-widgets/base",
      "_view_module_version": "1.2.0",
      "_view_name": "LayoutView",
      "align_content": null,
      "align_items": null,
      "align_self": null,
      "border": null,
      "bottom": null,
      "display": null,
      "flex": null,
      "flex_flow": null,
      "grid_area": null,
      "grid_auto_columns": null,
      "grid_auto_flow": null,
      "grid_auto_rows": null,
      "grid_column": null,
      "grid_gap": null,
      "grid_row": null,
      "grid_template_areas": null,
      "grid_template_columns": null,
      "grid_template_rows": null,
      "height": null,
      "justify_content": null,
      "justify_items": null,
      "left": null,
      "margin": null,
      "max_height": null,
      "max_width": null,
      "min_height": null,
      "min_width": null,
      "object_fit": null,
      "object_position": null,
      "order": null,
      "overflow": null,
      "overflow_x": null,
      "overflow_y": null,
      "padding": null,
      "right": null,
      "top": null,
      "visibility": null,
      "width": null
     }
    },
    "6cf30dec1582465e9d75ed5b7430bf6d": {
     "model_module": "@jupyter-widgets/base",
     "model_name": "LayoutModel",
     "state": {
      "_model_module": "@jupyter-widgets/base",
      "_model_module_version": "1.2.0",
      "_model_name": "LayoutModel",
      "_view_count": null,
      "_view_module": "@jupyter-widgets/base",
      "_view_module_version": "1.2.0",
      "_view_name": "LayoutView",
      "align_content": null,
      "align_items": null,
      "align_self": null,
      "border": null,
      "bottom": null,
      "display": null,
      "flex": null,
      "flex_flow": null,
      "grid_area": null,
      "grid_auto_columns": null,
      "grid_auto_flow": null,
      "grid_auto_rows": null,
      "grid_column": null,
      "grid_gap": null,
      "grid_row": null,
      "grid_template_areas": null,
      "grid_template_columns": null,
      "grid_template_rows": null,
      "height": null,
      "justify_content": null,
      "justify_items": null,
      "left": null,
      "margin": null,
      "max_height": null,
      "max_width": null,
      "min_height": null,
      "min_width": null,
      "object_fit": null,
      "object_position": null,
      "order": null,
      "overflow": null,
      "overflow_x": null,
      "overflow_y": null,
      "padding": null,
      "right": null,
      "top": null,
      "visibility": null,
      "width": null
     }
    },
    "7c174eb021cc44a0a572e3a0348cf270": {
     "model_module": "@jupyter-widgets/controls",
     "model_name": "HBoxModel",
     "state": {
      "_dom_classes": [],
      "_model_module": "@jupyter-widgets/controls",
      "_model_module_version": "1.5.0",
      "_model_name": "HBoxModel",
      "_view_count": null,
      "_view_module": "@jupyter-widgets/controls",
      "_view_module_version": "1.5.0",
      "_view_name": "HBoxView",
      "box_style": "",
      "children": [
       "IPY_MODEL_f50746f4b35a4e22898a30de03ca0271",
       "IPY_MODEL_da7f7d2c97874f51b2fba02ab955c740"
      ],
      "layout": "IPY_MODEL_04c3d4d827454eeb95f991db3196625a"
     }
    },
    "8256934d9b8e4529b749342c04813753": {
     "model_module": "@jupyter-widgets/base",
     "model_name": "LayoutModel",
     "state": {
      "_model_module": "@jupyter-widgets/base",
      "_model_module_version": "1.2.0",
      "_model_name": "LayoutModel",
      "_view_count": null,
      "_view_module": "@jupyter-widgets/base",
      "_view_module_version": "1.2.0",
      "_view_name": "LayoutView",
      "align_content": null,
      "align_items": null,
      "align_self": null,
      "border": null,
      "bottom": null,
      "display": null,
      "flex": null,
      "flex_flow": null,
      "grid_area": null,
      "grid_auto_columns": null,
      "grid_auto_flow": null,
      "grid_auto_rows": null,
      "grid_column": null,
      "grid_gap": null,
      "grid_row": null,
      "grid_template_areas": null,
      "grid_template_columns": null,
      "grid_template_rows": null,
      "height": null,
      "justify_content": null,
      "justify_items": null,
      "left": null,
      "margin": null,
      "max_height": null,
      "max_width": null,
      "min_height": null,
      "min_width": null,
      "object_fit": null,
      "object_position": null,
      "order": null,
      "overflow": null,
      "overflow_x": null,
      "overflow_y": null,
      "padding": null,
      "right": null,
      "top": null,
      "visibility": null,
      "width": null
     }
    },
    "8420ef4d10a844f982e08eb03c225cd4": {
     "model_module": "@jupyter-widgets/base",
     "model_name": "LayoutModel",
     "state": {
      "_model_module": "@jupyter-widgets/base",
      "_model_module_version": "1.2.0",
      "_model_name": "LayoutModel",
      "_view_count": null,
      "_view_module": "@jupyter-widgets/base",
      "_view_module_version": "1.2.0",
      "_view_name": "LayoutView",
      "align_content": null,
      "align_items": null,
      "align_self": null,
      "border": null,
      "bottom": null,
      "display": null,
      "flex": null,
      "flex_flow": null,
      "grid_area": null,
      "grid_auto_columns": null,
      "grid_auto_flow": null,
      "grid_auto_rows": null,
      "grid_column": null,
      "grid_gap": null,
      "grid_row": null,
      "grid_template_areas": null,
      "grid_template_columns": null,
      "grid_template_rows": null,
      "height": null,
      "justify_content": null,
      "justify_items": null,
      "left": null,
      "margin": null,
      "max_height": null,
      "max_width": null,
      "min_height": null,
      "min_width": null,
      "object_fit": null,
      "object_position": null,
      "order": null,
      "overflow": null,
      "overflow_x": null,
      "overflow_y": null,
      "padding": null,
      "right": null,
      "top": null,
      "visibility": null,
      "width": null
     }
    },
    "84391e0ac211431281ff1913546fd45f": {
     "model_module": "@jupyter-widgets/controls",
     "model_name": "IntProgressModel",
     "state": {
      "_dom_classes": [],
      "_model_module": "@jupyter-widgets/controls",
      "_model_module_version": "1.5.0",
      "_model_name": "IntProgressModel",
      "_view_count": null,
      "_view_module": "@jupyter-widgets/controls",
      "_view_module_version": "1.5.0",
      "_view_name": "ProgressView",
      "bar_style": "success",
      "description": "",
      "description_tooltip": null,
      "layout": "IPY_MODEL_5837b322e9fe420aa4ce8b66c3a91413",
      "max": 400,
      "min": 0,
      "orientation": "horizontal",
      "style": "IPY_MODEL_e229039798314ef39eff5ce8d3d701ec",
      "value": 400
     }
    },
    "8716c4fc7b154681b4f614abef951014": {
     "model_module": "@jupyter-widgets/controls",
     "model_name": "DescriptionStyleModel",
     "state": {
      "_model_module": "@jupyter-widgets/controls",
      "_model_module_version": "1.5.0",
      "_model_name": "DescriptionStyleModel",
      "_view_count": null,
      "_view_module": "@jupyter-widgets/base",
      "_view_module_version": "1.2.0",
      "_view_name": "StyleView",
      "description_width": ""
     }
    },
    "96247fe69e6b48c8b2c1d3d3ae14c91f": {
     "model_module": "@jupyter-widgets/controls",
     "model_name": "DescriptionStyleModel",
     "state": {
      "_model_module": "@jupyter-widgets/controls",
      "_model_module_version": "1.5.0",
      "_model_name": "DescriptionStyleModel",
      "_view_count": null,
      "_view_module": "@jupyter-widgets/base",
      "_view_module_version": "1.2.0",
      "_view_name": "StyleView",
      "description_width": ""
     }
    },
    "a4611a41207d46d3991ba0aec44f3df7": {
     "model_module": "@jupyter-widgets/controls",
     "model_name": "ProgressStyleModel",
     "state": {
      "_model_module": "@jupyter-widgets/controls",
      "_model_module_version": "1.5.0",
      "_model_name": "ProgressStyleModel",
      "_view_count": null,
      "_view_module": "@jupyter-widgets/base",
      "_view_module_version": "1.2.0",
      "_view_name": "StyleView",
      "bar_color": null,
      "description_width": ""
     }
    },
    "a77212fa14274940ace1191dec48dc74": {
     "model_module": "@jupyter-widgets/controls",
     "model_name": "ProgressStyleModel",
     "state": {
      "_model_module": "@jupyter-widgets/controls",
      "_model_module_version": "1.5.0",
      "_model_name": "ProgressStyleModel",
      "_view_count": null,
      "_view_module": "@jupyter-widgets/base",
      "_view_module_version": "1.2.0",
      "_view_name": "StyleView",
      "bar_color": null,
      "description_width": ""
     }
    },
    "a809aa34e5714751b0eadc16c4d81bf5": {
     "model_module": "@jupyter-widgets/base",
     "model_name": "LayoutModel",
     "state": {
      "_model_module": "@jupyter-widgets/base",
      "_model_module_version": "1.2.0",
      "_model_name": "LayoutModel",
      "_view_count": null,
      "_view_module": "@jupyter-widgets/base",
      "_view_module_version": "1.2.0",
      "_view_name": "LayoutView",
      "align_content": null,
      "align_items": null,
      "align_self": null,
      "border": null,
      "bottom": null,
      "display": null,
      "flex": null,
      "flex_flow": null,
      "grid_area": null,
      "grid_auto_columns": null,
      "grid_auto_flow": null,
      "grid_auto_rows": null,
      "grid_column": null,
      "grid_gap": null,
      "grid_row": null,
      "grid_template_areas": null,
      "grid_template_columns": null,
      "grid_template_rows": null,
      "height": null,
      "justify_content": null,
      "justify_items": null,
      "left": null,
      "margin": null,
      "max_height": null,
      "max_width": null,
      "min_height": null,
      "min_width": null,
      "object_fit": null,
      "object_position": null,
      "order": null,
      "overflow": null,
      "overflow_x": null,
      "overflow_y": null,
      "padding": null,
      "right": null,
      "top": null,
      "visibility": null,
      "width": null
     }
    },
    "b377c69fd4f14ef5b3ad4f0aa24a6634": {
     "model_module": "@jupyter-widgets/base",
     "model_name": "LayoutModel",
     "state": {
      "_model_module": "@jupyter-widgets/base",
      "_model_module_version": "1.2.0",
      "_model_name": "LayoutModel",
      "_view_count": null,
      "_view_module": "@jupyter-widgets/base",
      "_view_module_version": "1.2.0",
      "_view_name": "LayoutView",
      "align_content": null,
      "align_items": null,
      "align_self": null,
      "border": null,
      "bottom": null,
      "display": null,
      "flex": null,
      "flex_flow": null,
      "grid_area": null,
      "grid_auto_columns": null,
      "grid_auto_flow": null,
      "grid_auto_rows": null,
      "grid_column": null,
      "grid_gap": null,
      "grid_row": null,
      "grid_template_areas": null,
      "grid_template_columns": null,
      "grid_template_rows": null,
      "height": null,
      "justify_content": null,
      "justify_items": null,
      "left": null,
      "margin": null,
      "max_height": null,
      "max_width": null,
      "min_height": null,
      "min_width": null,
      "object_fit": null,
      "object_position": null,
      "order": null,
      "overflow": null,
      "overflow_x": null,
      "overflow_y": null,
      "padding": null,
      "right": null,
      "top": null,
      "visibility": null,
      "width": null
     }
    },
    "bee784c89b6d4862a0ad4ca0ff9e9ed2": {
     "model_module": "@jupyter-widgets/controls",
     "model_name": "HBoxModel",
     "state": {
      "_dom_classes": [],
      "_model_module": "@jupyter-widgets/controls",
      "_model_module_version": "1.5.0",
      "_model_name": "HBoxModel",
      "_view_count": null,
      "_view_module": "@jupyter-widgets/controls",
      "_view_module_version": "1.5.0",
      "_view_name": "HBoxView",
      "box_style": "",
      "children": [
       "IPY_MODEL_061b8ee949e543a1a90f7f173d401f9c",
       "IPY_MODEL_0cfdc111e2fd47e7b818862f0562d231"
      ],
      "layout": "IPY_MODEL_b377c69fd4f14ef5b3ad4f0aa24a6634"
     }
    },
    "da7f7d2c97874f51b2fba02ab955c740": {
     "model_module": "@jupyter-widgets/controls",
     "model_name": "HTMLModel",
     "state": {
      "_dom_classes": [],
      "_model_module": "@jupyter-widgets/controls",
      "_model_module_version": "1.5.0",
      "_model_name": "HTMLModel",
      "_view_count": null,
      "_view_module": "@jupyter-widgets/controls",
      "_view_module_version": "1.5.0",
      "_view_name": "HTMLView",
      "description": "",
      "description_tooltip": null,
      "layout": "IPY_MODEL_6cf30dec1582465e9d75ed5b7430bf6d",
      "placeholder": "​",
      "style": "IPY_MODEL_dd8a2dadd73342e18550d294dda41db6",
      "value": "100% 60/60 [09:25&lt;00:00,  9.47s/it]"
     }
    },
    "dd8a2dadd73342e18550d294dda41db6": {
     "model_module": "@jupyter-widgets/controls",
     "model_name": "DescriptionStyleModel",
     "state": {
      "_model_module": "@jupyter-widgets/controls",
      "_model_module_version": "1.5.0",
      "_model_name": "DescriptionStyleModel",
      "_view_count": null,
      "_view_module": "@jupyter-widgets/base",
      "_view_module_version": "1.2.0",
      "_view_name": "StyleView",
      "description_width": ""
     }
    },
    "e229039798314ef39eff5ce8d3d701ec": {
     "model_module": "@jupyter-widgets/controls",
     "model_name": "ProgressStyleModel",
     "state": {
      "_model_module": "@jupyter-widgets/controls",
      "_model_module_version": "1.5.0",
      "_model_name": "ProgressStyleModel",
      "_view_count": null,
      "_view_module": "@jupyter-widgets/base",
      "_view_module_version": "1.2.0",
      "_view_name": "StyleView",
      "bar_color": null,
      "description_width": ""
     }
    },
    "e5cedff785ed42e6887f222ab8766b33": {
     "model_module": "@jupyter-widgets/controls",
     "model_name": "HTMLModel",
     "state": {
      "_dom_classes": [],
      "_model_module": "@jupyter-widgets/controls",
      "_model_module_version": "1.5.0",
      "_model_name": "HTMLModel",
      "_view_count": null,
      "_view_module": "@jupyter-widgets/controls",
      "_view_module_version": "1.5.0",
      "_view_name": "HTMLView",
      "description": "",
      "description_tooltip": null,
      "layout": "IPY_MODEL_8256934d9b8e4529b749342c04813753",
      "placeholder": "​",
      "style": "IPY_MODEL_96247fe69e6b48c8b2c1d3d3ae14c91f",
      "value": "100% 50/50 [06:33&lt;00:00,  7.88s/it]"
     }
    },
    "ea7922a2a84849b68d41bcd32abb1020": {
     "model_module": "@jupyter-widgets/controls",
     "model_name": "IntProgressModel",
     "state": {
      "_dom_classes": [],
      "_model_module": "@jupyter-widgets/controls",
      "_model_module_version": "1.5.0",
      "_model_name": "IntProgressModel",
      "_view_count": null,
      "_view_module": "@jupyter-widgets/controls",
      "_view_module_version": "1.5.0",
      "_view_name": "ProgressView",
      "bar_style": "success",
      "description": "",
      "description_tooltip": null,
      "layout": "IPY_MODEL_ff8c09097b5346a2836e16fa056d9c22",
      "max": 50,
      "min": 0,
      "orientation": "horizontal",
      "style": "IPY_MODEL_a4611a41207d46d3991ba0aec44f3df7",
      "value": 50
     }
    },
    "f50746f4b35a4e22898a30de03ca0271": {
     "model_module": "@jupyter-widgets/controls",
     "model_name": "IntProgressModel",
     "state": {
      "_dom_classes": [],
      "_model_module": "@jupyter-widgets/controls",
      "_model_module_version": "1.5.0",
      "_model_name": "IntProgressModel",
      "_view_count": null,
      "_view_module": "@jupyter-widgets/controls",
      "_view_module_version": "1.5.0",
      "_view_name": "ProgressView",
      "bar_style": "success",
      "description": "",
      "description_tooltip": null,
      "layout": "IPY_MODEL_54de5fabfb8e4487b32afd657c521185",
      "max": 60,
      "min": 0,
      "orientation": "horizontal",
      "style": "IPY_MODEL_07418e1a42cb40bb98da06a7195c55d9",
      "value": 60
     }
    },
    "f9aec20178d2413f93fd3b65be85a52f": {
     "model_module": "@jupyter-widgets/controls",
     "model_name": "DescriptionStyleModel",
     "state": {
      "_model_module": "@jupyter-widgets/controls",
      "_model_module_version": "1.5.0",
      "_model_name": "DescriptionStyleModel",
      "_view_count": null,
      "_view_module": "@jupyter-widgets/base",
      "_view_module_version": "1.2.0",
      "_view_name": "StyleView",
      "description_width": ""
     }
    },
    "ff8c09097b5346a2836e16fa056d9c22": {
     "model_module": "@jupyter-widgets/base",
     "model_name": "LayoutModel",
     "state": {
      "_model_module": "@jupyter-widgets/base",
      "_model_module_version": "1.2.0",
      "_model_name": "LayoutModel",
      "_view_count": null,
      "_view_module": "@jupyter-widgets/base",
      "_view_module_version": "1.2.0",
      "_view_name": "LayoutView",
      "align_content": null,
      "align_items": null,
      "align_self": null,
      "border": null,
      "bottom": null,
      "display": null,
      "flex": null,
      "flex_flow": null,
      "grid_area": null,
      "grid_auto_columns": null,
      "grid_auto_flow": null,
      "grid_auto_rows": null,
      "grid_column": null,
      "grid_gap": null,
      "grid_row": null,
      "grid_template_areas": null,
      "grid_template_columns": null,
      "grid_template_rows": null,
      "height": null,
      "justify_content": null,
      "justify_items": null,
      "left": null,
      "margin": null,
      "max_height": null,
      "max_width": null,
      "min_height": null,
      "min_width": null,
      "object_fit": null,
      "object_position": null,
      "order": null,
      "overflow": null,
      "overflow_x": null,
      "overflow_y": null,
      "padding": null,
      "right": null,
      "top": null,
      "visibility": null,
      "width": null
     }
    }
   }
  }
 },
 "nbformat": 4,
 "nbformat_minor": 1
}
